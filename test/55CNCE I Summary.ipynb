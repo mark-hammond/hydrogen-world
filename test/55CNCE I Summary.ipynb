{
 "cells": [
  {
   "cell_type": "markdown",
   "metadata": {
    "nbpresent": {
     "id": "680b5df2-59c2-4dcd-848c-d1d73a689f53"
    }
   },
   "source": [
    "# Project Notes: 55CNCE I\n",
    "1D radiative-convective modelling of a H2 atmosphere on 55 Cancri e, with a focus on ground temperature and outgoing radiation.  \n",
    "Planetary data from http://www.nature.com/nature/journal/v532/n7598/abs/nature17169.html.\n",
    "<hr>\n",
    "### Collision-Induced Absorption\n",
    "H2 has significant collision-induced absorption (CIA) in the emission range of a black body at 3000K (55 Cancri e) and 5500K (55 Cancri).  \n",
    "Data from http://www.astro.ku.dk/~aborysow/programs/.  \n",
    "<img src=\"H2_CIA_OLR_3000.svg\" alt=\"H2_CIA_OLR_3000.svg\" style=\"width: 1000px;\"/>\n",
    "\n",
    "* T$_{ref}$ and p$_{ref}$ *do* matter as the reference point for the b scaling, but as long as they match the CIA data and model range there's not much difference - the CIA will look noticeably strange for T$_{ref}$ and p$_{ref}$ out of the data range\n",
    "* Averaging the cross-section every 10 points or so doesn't seem to affect the results much, and speeds up the calculations greatly - worth seeing how far to push it\n",
    "  \n",
    "<hr>\n",
    "### OLR Testing\n",
    "Plotting the OLR for various surface pressures and ground temperatures on the dry adiabat, and the incoming radiation around the planet (with albedo depending on surface pressure), shows the expected ground temperature for a given surface pressure and incoming radiation.  \n",
    "<img src=\"H2_OLR_ILR.svg\" alt=\"H2_OLR_ILR.svg\" style=\"width: 600px;\"/>  \n",
    "* Albedo taken from https://users.physics.ox.ac.uk/~pierrehumbert/papers/H2Worlds.pdf (at low T, ~300K)\n",
    "* Variable C$_{p}$ from http://webbook.nist.gov/cgi/cbook.cgi?ID=C1333740&Units=SI&Mask=1#Thermo-Gas\n",
    "* Could use moist adiabat or calculated albedo?\n",
    "  \n",
    "<hr>\n",
    "### Radiative-Convective Testing\n",
    "Plotting T(p) for a range of L and p$_{s}$.  \n",
    "For L$*$/2 and 10 bar:\n",
    "<img src=\"10bar_L2.svg\" alt=\"10bar_L2.svg\" style=\"width: 1000px;\"/>\n",
    "For L$*$/2 and 3 bar:\n",
    "<img src=\"3bar_L2.svg\" alt=\"3bar_L2.svg\" style=\"width: 1000px;\"/>\n",
    "For L$*$ and 10 bar:\n",
    "<img src=\"10bar_L.svg\" alt=\"10bar_L.svg\" style=\"width: 1000px;\"/>\n",
    "* Lower atmosphere roughly on adiabat, upper almost isothermal - radiating layer is ~1bar\n",
    "* Atmosphere below 0.01 bar converges very slowly - had to run with very varying time step - is it actually isothermal?\n",
    "* Plot OLR test with rad-conv profile?\n",
    "  \n",
    "<hr>\n",
    "### Outgoing Spectra\n",
    "The atmosphere could increase the planet's outgoing visible radiation greatly, as it increases the surface temperature and does not absorb visible radiation strongly.  \n",
    "<img src=\"outgoing_spectra.svg\" alt=\"outgoing_spectra.svg\" style=\"width: 700px;\"/>\n",
    "* The \"Apparent Outgoing Radiation\" is the black body spectrum which coincides with the modelled outgoing radiation at 4.5 microns (Demory).\n",
    "* The \"Model\" intensity in the visible (above ~14000 cm$^{-1}$) is more than an order of magnitude greater than the \"Apparent\" intensity\n",
    "  \n",
    "<hr>"
   ]
  },
  {
   "cell_type": "markdown",
   "metadata": {
    "nbpresent": {
     "id": "94880622-8ad7-4e1f-99cb-51f0ae0100ef"
    }
   },
   "source": [
    "### OLR Widget Demo"
   ]
  },
  {
   "cell_type": "code",
   "execution_count": 1,
   "metadata": {
    "collapsed": false,
    "nbpresent": {
     "id": "9b693524-7520-4f54-8a23-8b6624278fc3"
    }
   },
   "outputs": [
    {
     "data": {
      "text/html": [
       "<script>\n",
       "code_show=true; \n",
       "function code_toggle() {\n",
       " if (code_show){\n",
       " $('div.input').hide();\n",
       " } else {\n",
       " $('div.input').show();\n",
       " }\n",
       " code_show = !code_show\n",
       "} \n",
       "$( document ).ready(code_toggle);\n",
       "</script>\n",
       "<form action=\"javascript:code_toggle()\"><input type=\"submit\" value=\"Click here to toggle on/off the raw code.\"></form>"
      ],
      "text/plain": [
       "<IPython.core.display.HTML object>"
      ]
     },
     "execution_count": 1,
     "metadata": {},
     "output_type": "execute_result"
    }
   ],
   "source": [
    "from IPython.display import HTML\n",
    "\n",
    "HTML('''<script>\n",
    "code_show=true; \n",
    "function code_toggle() {\n",
    " if (code_show){\n",
    " $('div.input').hide();\n",
    " } else {\n",
    " $('div.input').show();\n",
    " }\n",
    " code_show = !code_show\n",
    "} \n",
    "$( document ).ready(code_toggle);\n",
    "</script>\n",
    "<form action=\"javascript:code_toggle()\"><input type=\"submit\" value=\"Click here to toggle on/off the raw code.\"></form>''')"
   ]
  },
  {
   "cell_type": "code",
   "execution_count": 2,
   "metadata": {
    "collapsed": false,
    "nbpresent": {
     "id": "252759e0-46eb-4594-9e9d-5318741221db"
    }
   },
   "outputs": [
    {
     "name": "stdout",
     "output_type": "stream",
     "text": [
      "Using MatPlotLib graphics\n"
     ]
    }
   ],
   "source": [
    "#Hydrogen world summer project script\n",
    "#Computes semigrey OLR for H2 atmosphere on dry adiabat\n",
    "#Assumes optically thin stratosphere\n",
    "\n",
    "\n",
    "from ClimateUtilities import *\n",
    "import phys\n",
    "import math\n",
    "\n",
    "\n",
    "import miniClimtFancyCIABand as rad\n",
    "from matplotlib.ticker import ScalarFormatter\n",
    "\n",
    "\n",
    "from ipywidgets import *\n",
    "from ipywidgets import FloatProgress\n",
    "from IPython.display import display\n",
    "import matplotlib.pyplot as plt\n",
    "\n",
    "import seaborn\n",
    "seaborn.set_style(\"whitegrid\")\n",
    "seaborn.set_context(\"notebook\", font_scale=1.2, rc={\"lines.linewidth\": 1.2})\n",
    "seaborn.set_color_codes()\n",
    "\n",
    "%matplotlib inline\n",
    "\n",
    "def OLR_Plot(Tg):\n",
    "    def calcBrightT(I,nu):\n",
    "        f = nu * 100 * phys.c\n",
    "        return 1 / ((phys.k / (phys.h * f)) * numpy.log((2 * phys.h * f ** 3 * 100 * math.pi)/(phys.c * I) + 1))\n",
    "\n",
    "    #-------Set constants-----------\n",
    "    rad.g = 28. #Set gravity\n",
    "    rad.LWCutoff = 1e6 #Thermal longwave cutoff; speeds up calc\n",
    "    rad.Tstellar = 5373.\n",
    "    rad.Lstellar = 2590 * 1350.\n",
    "    rad.pref = 1.e3\n",
    "    rad.Tref = 2600\n",
    "    rad.bandData = rad.loadContinuumBands('H2_CIA_HOT.dat')\n",
    "    bands = rad.bandData\n",
    "\n",
    "    n=35 #n = 200 #(200 used in paper)\n",
    "    \n",
    "    ptop = 100.\n",
    "\n",
    "    #-------------------------------------------------------------------------\n",
    "    q = numpy.ones(n)\n",
    "    TgList = numpy.linspace(Tg,3500,1)\n",
    "    \n",
    "    points = 5\n",
    "    ilrList_gen = numpy.logspace(1,0.778,points)\n",
    "    psList = 1.e5 * numpy.logspace(-0.30102999566,1,points)\n",
    "    psAlphaList = 1 - (4. * ilrList_gen / 40.)\n",
    "    ilrList = 0.25 * (1 -  psAlphaList) * rad.Lstellar\n",
    "    TgListRef = TgList\n",
    "\n",
    "    i=0\n",
    "\n",
    "    fig = plt.figure(figsize=(8,5))\n",
    "    TgIdx=0\n",
    "    j=0\n",
    "    for Tg in TgList:\n",
    "        psIdx=0\n",
    "        olrList = []\n",
    "        for ps in psList:\n",
    "            p = rad.setpLog(ps,ptop,n) #Puts extra resolution in stratosphere.\n",
    "            T = Tg*(p/ps)**(rad.GHG.Rcp)\n",
    "            j+=1\n",
    "            fluxLW,heatLW,fluxBandList = rad.radCompLW(p,T,Tg,q)\n",
    "            olrList.append(fluxLW[0])\n",
    "\n",
    "            psIdx += 1\n",
    "            bar.value = (100 * j/len(psList))\n",
    "        TgIdx += 1\n",
    "        i += 1\n",
    "\n",
    "        plt.loglog(psList/1e5,olrList,'k')\n",
    "        plt.text(psList[-1]/1e5, 0.9 * olrList[-1], ' {Tg} K'.format(Tg=Tg))\n",
    "\n",
    "\n",
    "\n",
    "    plt.loglog(psList/1e5,4 * ilrList,'r--', linewidth=2.5,label=r'L = L*')\n",
    "    #plt.text(psList[3] / 1E5, 1.2 * ilrList[3],r'L = 3.50 MWm$^{-2}$',color='b')\n",
    "\n",
    "    plt.loglog(psList/1e5,2 * ilrList,'g--', linewidth=2.5,label=r'L = L* / 2')\n",
    "\n",
    "    plt.loglog(psList/1e5,ilrList,'b--', linewidth=2.5,label=r'L = L* / 4')\n",
    "\n",
    "\n",
    "    plt.xlabel('Surface Pressure (bar)')\n",
    "    plt.ylabel('OLR (Wm$^-$$^2$)')\n",
    "    plt.title('H$_{2}$ atmosphere OLR(p$_{s}$)', fontsize=20, y=1.04)\n",
    "\n",
    "    axes = plt.gca()\n",
    "\n",
    "    axes.set_xlim([0.5,10])\n",
    "    #axes.set_ylim([3e5,5e6])\n",
    "\n",
    "    axes.xaxis.grid(True, which='major') \n",
    "    axes.xaxis.grid(True, which='minor') \n",
    "    axes.yaxis.grid(True, which='major') \n",
    "    axes.yaxis.grid(True, which='minor')\n",
    "\n",
    "\n",
    "    legend = axes.legend(loc='lower left',frameon=True,prop={'size':15}) \n",
    "\n",
    "    plt.show()"
   ]
  },
  {
   "cell_type": "code",
   "execution_count": 3,
   "metadata": {
    "collapsed": false,
    "nbpresent": {
     "id": "c0ff6592-cd7e-4749-b34a-52199bb39e31"
    }
   },
   "outputs": [],
   "source": [
    "interact(OLR_Plot, Tg=widgets.IntSlider(min=2000,max=3000,step=100,value=2500),__manual=True);\n",
    "bar = FloatProgress(min=0, max=100,description=\"Progress\")\n",
    "display(bar)"
   ]
  },
  {
   "cell_type": "markdown",
   "metadata": {},
   "source": [
    "<hr>"
   ]
  },
  {
   "cell_type": "markdown",
   "metadata": {
    "nbpresent": {
     "id": "d388b8c8-13a4-48da-8a0c-74716044229b"
    }
   },
   "source": [
    "### RadConv Widget Demo"
   ]
  },
  {
   "cell_type": "code",
   "execution_count": 4,
   "metadata": {
    "collapsed": true,
    "nbpresent": {
     "id": "026583a4-da45-4ba3-b191-5d8190a77695"
    }
   },
   "outputs": [],
   "source": [
    "#Hydrogen world summer project script\n",
    "#Computes semigrey OLR for H2 atmosphere on dry adiabat\n",
    "#Assumes optically thin stratosphere\n",
    "\n",
    "\n",
    "from ClimateUtilities import *\n",
    "import phys\n",
    "import math\n",
    "import matplotlib as mpl\n",
    "from ipywidgets import *\n",
    "\n",
    "from IPython import display\n",
    "import matplotlib.pyplot as plt\n",
    "from matplotlib.ticker import ScalarFormatter\n",
    "import time\n",
    "\n",
    "import seaborn\n",
    "seaborn.set_style(\"whitegrid\")\n",
    "seaborn.set_context(\"notebook\", font_scale=1.2, rc={\"lines.linewidth\": 1.2})\n",
    "seaborn.set_color_codes()\n",
    "\n",
    "\n",
    "\n",
    "\n",
    "#Import radiation module\n",
    "import miniClimtFancyCIABand as rad\n",
    "#Import rad-conv stepper (with Cp(T) and adiabatic adjustment)\n",
    "import HWRadConv as RC\n",
    "#Import general modules\n",
    "\n",
    "import planets\n",
    "\n",
    "import matplotlib.pyplot as plt\n",
    "import matplotlib.gridspec as gridspec\n",
    "\n",
    "\n",
    "#Import optional seaborn plotting library\n",
    "import seaborn\n",
    "seaborn.set_style(\"whitegrid\")\n",
    "seaborn.set_context(\"notebook\", font_scale=1.2, rc={\"lines.linewidth\": 1.2})\n",
    "seaborn.set_color_codes()\n",
    "\n",
    "\n",
    "%matplotlib inline\n",
    "\n",
    "\n",
    "def RadConv(L,Tg,mode):\n",
    "    #--------------Initializations-------------------------------------------\n",
    "\n",
    "    #Set initial time step\n",
    "    dtime = 1.e-4 # 1. # (for CO2 case; gray gas evolves faster)\n",
    "\n",
    "    #Set number of levels in pressure array\n",
    "    n = 10\n",
    "\n",
    "    #Set global constants\n",
    "    ps = 1.e5 * 10\n",
    "    rh = 1.e-30#Relative humidity\n",
    "    rhbdd = 1.e-30\n",
    "    dt = 24.*3600. * dtime#time step in seconds\n",
    "\n",
    "    Tg=Tg\n",
    "    #---Set up pressure array (a global)----\n",
    "    ptop = 50. #Top pressure in mb (Changed from 1mb in original)\n",
    "    pstart = .995*ps\n",
    "    rat = (ptop/pstart)**(1./n)\n",
    "    logLevels = [pstart*rat**i for i in range(n)]\n",
    "    logLevels.reverse()\n",
    "    levels = [ptop + i*(pstart-ptop)/(n-1) for i in range(n)]\n",
    "    p = numpy.array(logLevels)\n",
    "\n",
    "    #--------------Other parameters-------------------------------------------\n",
    "    #Set the gravity and thermodynamic constants\n",
    "    Rcp = 2./7.\n",
    "    \n",
    "    if mode == \"Adiabat\":\n",
    "        T = Tg*(p/p[-1])**Rcp\n",
    "    else:\n",
    "        T = Tg*numpy.ones(len(p))\n",
    "    \n",
    "    rad.tauInf = 5.\n",
    "    RC.q=numpy.ones(len(p))\n",
    "\n",
    "    #-------Set constants-----------\n",
    "    rad.g = 28. #Set gravity\n",
    "    rad.LWCutoff = 1.e6 #Thermal longwave cutoff; speeds up calc\n",
    "    rad.Tstellar = 5373.#\n",
    "    rad.Lstellar = L\n",
    "    rad.bandData = rad.loadContinuumBands('H2_CIA_HOT.dat')\n",
    "    rad.pref = 1.e5\n",
    "    rad.Tref = 2800\n",
    "\n",
    "    #--------------Model options-------------------------------------------\n",
    "    #Toggle shortwave absorption\n",
    "    RC.doStellarAbs = True\n",
    "    #Toggle variable heat capacity Cp(T)\n",
    "    RC.doVarRcp = True\n",
    "    #Toggle surface T balance equation\n",
    "    RC.doTgBalance = True\n",
    "\n",
    "\n",
    "    #Brightness T function\n",
    "    def calcBrightT(I,nu):\n",
    "        f = nu * 100 * phys.c\n",
    "        return 1 / ((phys.k / (phys.h * f)) * numpy.log((2 * phys.h * f ** 3 * 100 * math.pi)/(phys.c * I) + 1))\n",
    "\n",
    "\n",
    "    #---------------------------------------------------------\n",
    "    #--------------Initializations Done-----------------------\n",
    "    #--------------Now do the time stepping-------------------\n",
    "    #---------------------------------------------------------\n",
    "    for i in range(0,50):\n",
    "        dt = dt * 0.99\n",
    "        #oldT=numpy.array(T)\n",
    "        #if i%50 == 0 & i > 200:\n",
    "        #     dtime = .5*dtime\n",
    "        oldT=T[:]\n",
    "        oldTg=Tg\n",
    "        Tg,Tad,T,flux,fluxStellar,fluxLW,heat,heatStellar,heatLW,fluxBandList = RC.steps(Tg,T,p,1,dt)\n",
    "        fig = plt.figure(figsize=(16,5))\n",
    "        gs1 = gridspec.GridSpec(1,2)\n",
    "        ax_list = [fig.add_subplot(ss) for ss in gs1]\n",
    "\n",
    "\n",
    "        #Plot local adiabats for comparison\n",
    "        #for j in range(400,8000,800):\n",
    "        #    Tad = j*(p/p[-1])**Rcp\n",
    "        #    ax_list[0].plot(Tad,p/1e5,'0.8')\n",
    "        #    ax_list[1].semilogy(Tad,p/1e5,'0.8')\n",
    "\n",
    "        ax_list[0].plot(T,p/1e5,'k')\n",
    "        #line.set_ydata(T)\n",
    "        ax_list[0].invert_yaxis()\n",
    "        ax_list[0].set_xlim([0,4000])\n",
    "        #ax_list[0].set_ylim([0.1,1000])\n",
    "        ax_list[0].set_xlabel('Temperature (K)')\n",
    "        ax_list[0].set_ylabel('Pressure (bar)')\n",
    "        ax_list[0].set_title('Temperature Profile', fontsize=20, y=1.04)\n",
    "\n",
    "        ax_list[1].semilogy(T,p/1e5,'k')\n",
    "        ax_list[1].set_xlim([0,4000])\n",
    "        ax_list[1].set_ylim([0.001,ps/1e5])\n",
    "        ax_list[1].invert_yaxis()    \n",
    "        ax_list[1].set_xlabel('Temperature (K)')\n",
    "        ax_list[1].set_ylabel('Pressure (bar)')\n",
    "        ax_list[1].set_title('Semilog Temperature Profile', fontsize=20, y=1.04)\n",
    "        #plt.show()\n",
    "\n",
    "        display.display(plt.gcf())\n",
    "        display.clear_output(wait=True)\n",
    "        time.sleep(0.1)\n",
    "\n",
    "    \n"
   ]
  },
  {
   "cell_type": "code",
   "execution_count": 5,
   "metadata": {
    "collapsed": false,
    "nbpresent": {
     "id": "2fb9a156-9f01-4498-96d5-f22f50599f8d"
    }
   },
   "outputs": [],
   "source": [
    "interact(RadConv, L=widgets.IntSlider(min=1350.*2590.,max=1350.*2590.*4.,step=1000,value=1350.*2590.*2.),Tg=widgets.IntSlider(min=2000,max=3000.,step=100,value=2500),mode=('Adiabat','Isotherm'),__manual=True);"
   ]
  },
  {
   "cell_type": "code",
   "execution_count": null,
   "metadata": {
    "collapsed": false
   },
   "outputs": [],
   "source": [
    "\n"
   ]
  }
 ],
 "metadata": {
  "anaconda-cloud": {},
  "kernelspec": {
   "display_name": "Python [Root]",
   "language": "python",
   "name": "Python [Root]"
  },
  "language_info": {
   "codemirror_mode": {
    "name": "ipython",
    "version": 2
   },
   "file_extension": ".py",
   "mimetype": "text/x-python",
   "name": "python",
   "nbconvert_exporter": "python",
   "pygments_lexer": "ipython2",
   "version": "2.7.12"
  },
  "nbpresent": {
   "slides": {
    "299e4b70-0e34-48dd-92bc-57f836c3ad52": {
     "id": "299e4b70-0e34-48dd-92bc-57f836c3ad52",
     "prev": "7611d11f-9bcc-4a20-a2e5-25ce140da7f0",
     "regions": {
      "6f65d838-d476-4039-9e32-8f6da6c9c2f4": {
       "attrs": {
        "height": 0.8,
        "width": 0.8,
        "x": 0.1,
        "y": 0.1
       },
       "content": {
        "cell": "252759e0-46eb-4594-9e9d-5318741221db",
        "part": "whole"
       },
       "id": "6f65d838-d476-4039-9e32-8f6da6c9c2f4"
      }
     }
    },
    "46eb5fd9-1c45-4ce7-ae39-6330a28484a2": {
     "id": "46eb5fd9-1c45-4ce7-ae39-6330a28484a2",
     "prev": "a38d7532-d330-4f9e-b3a4-db13c491e1fb",
     "regions": {
      "7fd79670-46e8-4406-bd81-4361219eface": {
       "attrs": {
        "height": 0.8,
        "width": 0.8,
        "x": 0.1,
        "y": 0.1
       },
       "content": {
        "cell": "d388b8c8-13a4-48da-8a0c-74716044229b",
        "part": "whole"
       },
       "id": "7fd79670-46e8-4406-bd81-4361219eface"
      }
     }
    },
    "7611d11f-9bcc-4a20-a2e5-25ce140da7f0": {
     "id": "7611d11f-9bcc-4a20-a2e5-25ce140da7f0",
     "prev": "7f1ba387-e6f6-4286-9c94-88a732caf027",
     "regions": {
      "92652cc9-64b2-42ba-bb82-cadcf2bb10f3": {
       "attrs": {
        "height": 0.8,
        "width": 0.8,
        "x": 0.1,
        "y": 0.1
       },
       "content": {
        "cell": "9b693524-7520-4f54-8a23-8b6624278fc3",
        "part": "whole"
       },
       "id": "92652cc9-64b2-42ba-bb82-cadcf2bb10f3"
      }
     }
    },
    "79ee18cf-4a1e-4f11-ac0b-5b366df62e7b": {
     "id": "79ee18cf-4a1e-4f11-ac0b-5b366df62e7b",
     "prev": null,
     "regions": {
      "24eb1b19-3f52-4f55-ba68-a4496c9e03d8": {
       "attrs": {
        "height": 0.8,
        "width": 0.8,
        "x": 0.1,
        "y": 0.1
       },
       "content": {
        "cell": "680b5df2-59c2-4dcd-848c-d1d73a689f53",
        "part": "whole"
       },
       "id": "24eb1b19-3f52-4f55-ba68-a4496c9e03d8"
      }
     }
    },
    "7f1ba387-e6f6-4286-9c94-88a732caf027": {
     "id": "7f1ba387-e6f6-4286-9c94-88a732caf027",
     "prev": "79ee18cf-4a1e-4f11-ac0b-5b366df62e7b",
     "regions": {
      "d32204a3-5ff4-47cc-bcac-9bc978921988": {
       "attrs": {
        "height": 0.8,
        "width": 0.8,
        "x": 0.1,
        "y": 0.1
       },
       "content": {
        "cell": "94880622-8ad7-4e1f-99cb-51f0ae0100ef",
        "part": "whole"
       },
       "id": "d32204a3-5ff4-47cc-bcac-9bc978921988"
      }
     }
    },
    "a38d7532-d330-4f9e-b3a4-db13c491e1fb": {
     "id": "a38d7532-d330-4f9e-b3a4-db13c491e1fb",
     "prev": "299e4b70-0e34-48dd-92bc-57f836c3ad52",
     "regions": {
      "668966f6-5aa3-4010-9506-c201cdf4b2f2": {
       "attrs": {
        "height": 0.8,
        "width": 0.8,
        "x": 0.1,
        "y": 0.1
       },
       "content": {
        "cell": "c0ff6592-cd7e-4749-b34a-52199bb39e31",
        "part": "whole"
       },
       "id": "668966f6-5aa3-4010-9506-c201cdf4b2f2"
      }
     }
    },
    "ccbd4ed5-894c-4b72-b1c5-872a87d84522": {
     "id": "ccbd4ed5-894c-4b72-b1c5-872a87d84522",
     "prev": "fc534fbc-9111-4037-933a-a9d04176b673",
     "regions": {
      "b6d6e622-8329-43ae-a08c-3283508b553a": {
       "attrs": {
        "height": 0.8,
        "width": 0.8,
        "x": 0.1,
        "y": 0.1
       },
       "content": {
        "cell": "2fb9a156-9f01-4498-96d5-f22f50599f8d",
        "part": "whole"
       },
       "id": "b6d6e622-8329-43ae-a08c-3283508b553a"
      }
     }
    },
    "fc534fbc-9111-4037-933a-a9d04176b673": {
     "id": "fc534fbc-9111-4037-933a-a9d04176b673",
     "prev": "46eb5fd9-1c45-4ce7-ae39-6330a28484a2",
     "regions": {
      "d26f3890-5bbb-4cf5-ac3f-1c7d4050a7f0": {
       "attrs": {
        "height": 0.8,
        "width": 0.8,
        "x": 0.1,
        "y": 0.1
       },
       "content": {
        "cell": "026583a4-da45-4ba3-b191-5d8190a77695",
        "part": "whole"
       },
       "id": "d26f3890-5bbb-4cf5-ac3f-1c7d4050a7f0"
      }
     }
    }
   },
   "themes": {
    "default": "81a4c1ab-030a-4777-9582-8a1af04fb5e9",
    "theme": {
     "81a4c1ab-030a-4777-9582-8a1af04fb5e9": {
      "id": "81a4c1ab-030a-4777-9582-8a1af04fb5e9",
      "palette": {
       "19cc588f-0593-49c9-9f4b-e4d7cc113b1c": {
        "id": "19cc588f-0593-49c9-9f4b-e4d7cc113b1c",
        "rgb": [
         252,
         252,
         252
        ]
       },
       "31af15d2-7e15-44c5-ab5e-e04b16a89eff": {
        "id": "31af15d2-7e15-44c5-ab5e-e04b16a89eff",
        "rgb": [
         68,
         68,
         68
        ]
       },
       "50f92c45-a630-455b-aec3-788680ec7410": {
        "id": "50f92c45-a630-455b-aec3-788680ec7410",
        "rgb": [
         155,
         177,
         192
        ]
       },
       "c5cc3653-2ee1-402a-aba2-7caae1da4f6c": {
        "id": "c5cc3653-2ee1-402a-aba2-7caae1da4f6c",
        "rgb": [
         43,
         126,
         184
        ]
       },
       "efa7f048-9acb-414c-8b04-a26811511a21": {
        "id": "efa7f048-9acb-414c-8b04-a26811511a21",
        "rgb": [
         25.118061674008803,
         73.60176211453744,
         107.4819383259912
        ]
       }
      },
      "rules": {
       "blockquote": {
        "color": "50f92c45-a630-455b-aec3-788680ec7410"
       },
       "code": {
        "font-family": "Anonymous Pro"
       },
       "h1": {
        "color": "c5cc3653-2ee1-402a-aba2-7caae1da4f6c",
        "font-family": "Lato",
        "font-size": 8
       },
       "h2": {
        "color": "c5cc3653-2ee1-402a-aba2-7caae1da4f6c",
        "font-family": "Lato",
        "font-size": 6
       },
       "h3": {
        "color": "50f92c45-a630-455b-aec3-788680ec7410",
        "font-family": "Lato",
        "font-size": 5.5
       },
       "h4": {
        "color": "c5cc3653-2ee1-402a-aba2-7caae1da4f6c",
        "font-family": "Lato",
        "font-size": 5
       },
       "h5": {
        "font-family": "Lato"
       },
       "h6": {
        "font-family": "Lato"
       },
       "h7": {
        "font-family": "Lato"
       },
       "pre": {
        "font-family": "Anonymous Pro",
        "font-size": 4
       }
      },
      "text-base": {
       "font-family": "Merriweather",
       "font-size": 4
      }
     },
     "95c5109e-635c-4e9a-a623-c194aa12d34c": {
      "backgrounds": {
       "dc7afa04-bf90-40b1-82a5-726e3cff5267": {
        "background-color": "31af15d2-7e15-44c5-ab5e-e04b16a89eff",
        "id": "dc7afa04-bf90-40b1-82a5-726e3cff5267"
       }
      },
      "id": "95c5109e-635c-4e9a-a623-c194aa12d34c",
      "palette": {
       "19cc588f-0593-49c9-9f4b-e4d7cc113b1c": {
        "id": "19cc588f-0593-49c9-9f4b-e4d7cc113b1c",
        "rgb": [
         252,
         252,
         252
        ]
       },
       "31af15d2-7e15-44c5-ab5e-e04b16a89eff": {
        "id": "31af15d2-7e15-44c5-ab5e-e04b16a89eff",
        "rgb": [
         68,
         68,
         68
        ]
       },
       "50f92c45-a630-455b-aec3-788680ec7410": {
        "id": "50f92c45-a630-455b-aec3-788680ec7410",
        "rgb": [
         197,
         226,
         245
        ]
       },
       "c5cc3653-2ee1-402a-aba2-7caae1da4f6c": {
        "id": "c5cc3653-2ee1-402a-aba2-7caae1da4f6c",
        "rgb": [
         43,
         126,
         184
        ]
       },
       "efa7f048-9acb-414c-8b04-a26811511a21": {
        "id": "efa7f048-9acb-414c-8b04-a26811511a21",
        "rgb": [
         25.118061674008803,
         73.60176211453744,
         107.4819383259912
        ]
       }
      },
      "rules": {
       "a": {
        "color": "19cc588f-0593-49c9-9f4b-e4d7cc113b1c"
       },
       "blockquote": {
        "color": "50f92c45-a630-455b-aec3-788680ec7410",
        "font-size": 3
       },
       "code": {
        "font-family": "Anonymous Pro"
       },
       "h1": {
        "color": "19cc588f-0593-49c9-9f4b-e4d7cc113b1c",
        "font-family": "Merriweather",
        "font-size": 8
       },
       "h2": {
        "color": "19cc588f-0593-49c9-9f4b-e4d7cc113b1c",
        "font-family": "Merriweather",
        "font-size": 6
       },
       "h3": {
        "color": "50f92c45-a630-455b-aec3-788680ec7410",
        "font-family": "Lato",
        "font-size": 5.5
       },
       "h4": {
        "color": "c5cc3653-2ee1-402a-aba2-7caae1da4f6c",
        "font-family": "Lato",
        "font-size": 5
       },
       "h5": {
        "font-family": "Lato"
       },
       "h6": {
        "font-family": "Lato"
       },
       "h7": {
        "font-family": "Lato"
       },
       "li": {
        "color": "50f92c45-a630-455b-aec3-788680ec7410",
        "font-size": 3.25
       },
       "pre": {
        "font-family": "Anonymous Pro",
        "font-size": 4
       }
      },
      "text-base": {
       "color": "19cc588f-0593-49c9-9f4b-e4d7cc113b1c",
       "font-family": "Lato",
       "font-size": 4
      }
     }
    }
   }
  },
  "widgets": {
   "state": {
    "8dab80f2161a4082861ba9b0b32d08a3": {
     "views": [
      {
       "cell_index": 4
      }
     ]
    },
    "c8d2f00d5b124b3ba071bfa3062126b3": {
     "views": [
      {
       "cell_index": 4
      }
     ]
    },
    "d0a3dc67b8de4771b2492ff5d1cb0e25": {
     "views": [
      {
       "cell_index": 8
      }
     ]
    }
   },
   "version": "1.2.0"
  }
 },
 "nbformat": 4,
 "nbformat_minor": 0
}
