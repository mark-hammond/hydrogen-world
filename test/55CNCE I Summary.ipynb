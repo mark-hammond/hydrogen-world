{
 "cells": [
  {
   "cell_type": "markdown",
   "metadata": {},
   "source": [
    "# Project: 55CNCE I\n",
    "1D radiative-convective modelling of a H2 atmosphere on 55 Cancri e, with a focus on ground temperature and outgoing radiation."
   ]
  },
  {
   "cell_type": "markdown",
   "metadata": {},
   "source": [
    "### OLR Testing\n",
    "H2 has significant collision-induced absorption (CIA) in the emission range of a black body at 3000K (55 Cancri e) and 5500K (55 Cancri). Data from http://www.astro.ku.dk/~aborysow/programs/.\n",
    "\n",
    "<img src=\"H2_CIA_OLR_3000.svg\" alt=\"H2_CIA_OLR_3000.svg\" style=\"width: 1000px;\"/>\n",
    "Plotting the OLR for various surface pressures and ground temperatures with the incoming radiation around the planet (with albedo depending on surface pressure) shows the expected ground temperature for a given surface pressure and incoming radiation:\n",
    "<img src=\"H2_OLR_ILR.svg\" alt=\"H2_OLR_ILR.svg\" style=\"width: 600px;\"/>"
   ]
  },
  {
   "cell_type": "markdown",
   "metadata": {},
   "source": [
    "### Radiative-Convective Testing\n",
    "Modelled T(p) with solar radiation absorption, T$_{g}$ balance, and variable C$_{p}$.\n",
    "![alt text](T_profile_test.png \"T_profile_test\")"
   ]
  },
  {
   "cell_type": "code",
   "execution_count": null,
   "metadata": {
    "collapsed": true
   },
   "outputs": [],
   "source": []
  }
 ],
 "metadata": {
  "anaconda-cloud": {},
  "kernelspec": {
   "display_name": "Python [Root]",
   "language": "python",
   "name": "Python [Root]"
  },
  "language_info": {
   "codemirror_mode": {
    "name": "ipython",
    "version": 2
   },
   "file_extension": ".py",
   "mimetype": "text/x-python",
   "name": "python",
   "nbconvert_exporter": "python",
   "pygments_lexer": "ipython2",
   "version": "2.7.12"
  }
 },
 "nbformat": 4,
 "nbformat_minor": 0
}
