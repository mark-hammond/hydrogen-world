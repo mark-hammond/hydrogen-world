{
 "cells": [
  {
   "cell_type": "markdown",
   "metadata": {},
   "source": [
    "# Project: 55CNCE I\n",
    "1D radiative-convective modelling of a H2 atmosphere on 55 Cancri e, with a focus on ground temperature and outgoing radiation.\n",
    "### OLR Testing\n",
    "H2 has significant collision-induced absorption (CIA) in the emission range of a black body at 3000K (55 Cancri e) and 5500K (55 Cancri). Data from http://www.astro.ku.dk/~aborysow/programs/.\n",
    "\n",
    "<img src=\"H2_CIA_OLR_3000.svg\" alt=\"H2_CIA_OLR_3000.svg\" style=\"width: 1000px;\"/>\n",
    "Plotting the OLR for various surface pressures and ground temperatures on the dry adiabat, and the incoming radiation around the planet (with albedo depending on surface pressure), shows the expected ground temperature for a given surface pressure and incoming radiation:\n",
    "<img src=\"H2_OLR_ILR.svg\" alt=\"H2_OLR_ILR.svg\" style=\"width: 600px;\"/>\n",
    "### Radiative-Convective Testing\n",
    "The radiative-convective equilibrium is affected by the longwave atmospheric emission and shortwave stellar radiation, as the CIA is significant in both regimes.\n",
    "\n",
    "The variables here are the stellar radiation and surface pressure. These profiles are for L$*$/2 and 10 bar.\n",
    "<img src=\"T_profiles.svg\" alt=\"T_profiles.svg\" style=\"width: 1000px;\"/>\n",
    "### Outgoing Spectra\n",
    "The atmosphere could increase the planet's outgoing visible radiation greatly, as it increases the surface temperature and does not absorb visible radiation strongly.  \n",
    "This plot shows the modelled outgoing spectrum, and the spectrum that we would expect by measuring the intensity at 4.5 microns (Demory) and extrapolating as a black body.\n",
    "<img src=\"outgoing_spectra.svg\" alt=\"outgoing_spectra.svg\" style=\"width: 700px;\"/>\n",
    "The intensity in the visible (above 14000 cm$^{-1}$) is more than an order of magnitude greater than we would expect from the Demory paper."
   ]
  }
 ],
 "metadata": {
  "anaconda-cloud": {},
  "kernelspec": {
   "display_name": "Python [Root]",
   "language": "python",
   "name": "Python [Root]"
  },
  "language_info": {
   "codemirror_mode": {
    "name": "ipython",
    "version": 2
   },
   "file_extension": ".py",
   "mimetype": "text/x-python",
   "name": "python",
   "nbconvert_exporter": "python",
   "pygments_lexer": "ipython2",
   "version": "2.7.12"
  }
 },
 "nbformat": 4,
 "nbformat_minor": 0
}
