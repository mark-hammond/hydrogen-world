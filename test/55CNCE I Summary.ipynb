{
 "cells": [
  {
   "cell_type": "markdown",
   "metadata": {},
   "source": [
    "# Project: 55CNCE I\n",
    "1D radiative-convective modelling of a H2 atmosphere on 55 Cancri e, with a focus on ground temperature and outgoing radiation."
   ]
  },
  {
   "cell_type": "markdown",
   "metadata": {},
   "source": [
    "### OLR Testing\n",
    "Fixed T(p) to H2 dry adiabat and plotted OLR(T$_{g}$,p$_{s}$):\n",
    "![alt text](OLR_hot_bands.png \"OLR_hot_bands\")"
   ]
  },
  {
   "cell_type": "markdown",
   "metadata": {},
   "source": [
    "### Radiative-Convective Testing\n",
    "Modelled T(p) with solar radiation absorption, T$_{g}$ balance, and variable C$_{p}$.\n",
    "![alt text](T_profile_test.png \"T_profile_test\")"
   ]
  },
  {
   "cell_type": "code",
   "execution_count": null,
   "metadata": {
    "collapsed": true
   },
   "outputs": [],
   "source": []
  }
 ],
 "metadata": {
  "anaconda-cloud": {},
  "kernelspec": {
   "display_name": "Python [Root]",
   "language": "python",
   "name": "Python [Root]"
  },
  "language_info": {
   "codemirror_mode": {
    "name": "ipython",
    "version": 2
   },
   "file_extension": ".py",
   "mimetype": "text/x-python",
   "name": "python",
   "nbconvert_exporter": "python",
   "pygments_lexer": "ipython2",
   "version": "2.7.12"
  }
 },
 "nbformat": 4,
 "nbformat_minor": 0
}
