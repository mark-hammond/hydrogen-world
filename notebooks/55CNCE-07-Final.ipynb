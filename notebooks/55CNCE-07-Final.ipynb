{
 "cells": [
  {
   "cell_type": "code",
   "execution_count": 2,
   "metadata": {
    "collapsed": true
   },
   "outputs": [],
   "source": [
    "from IPython.display import HTML"
   ]
  },
  {
   "cell_type": "markdown",
   "metadata": {},
   "source": [
    "# 55CNCE-07-Final\n",
    "1D radiative-convective and 3D GCM modelling of a H2 atmosphere on 55 Cancri e, with a focus on ground temperature and outgoing radiation.  \n",
    "Planetary data from http://www.nature.com/nature/journal/v532/n7598/abs/nature17169.html.\n",
    "<hr>\n",
    "### Collision-Induced Absorption\n",
    "H2 has significant collision-induced absorption (CIA) in the emission range of a black body at 3000K (55 Cancri e) and 5500K (55 Cancri).  \n",
    "Data from http://www.astro.ku.dk/~aborysow/programs/.  \n",
    "COnverted Python code to Fortran.\n",
    "<img src=\"H2_CIA_OLR_3000.svg\" alt=\"H2_CIA_OLR_3000.svg\" style=\"width: 1000px;\"/>\n",
    "\n",
    "* Averaging the cross-section every 10 points or so doesn't seem to affect the results much, and speeds up the calculations greatly - worth seeing how far to push it\n",
    "* Fortran CIA code still slow - used to tune GG parameters\n",
    "<hr>\n",
    "### Radiative-Convective Testing\n",
    "Converted Python dry convection code to Fortran and used in FMS. \n",
    "For L$*$ and 10 bar:\n",
    "<img src=\"10bar_L.svg\" alt=\"10bar_L.svg\" style=\"width: 1000px;\"/>\n",
    "<hr>\n",
    "\n",
    "### Surface Balance\n",
    "Added a basic mixing term to the model surface balance ( kturb * (Tg-T[-1]) ).  \n",
    "  \n",
    "<hr>\n",
    "\n",
    "\n",
    "### CIAetc\n",
    "Converted Python dry convection and CIA radiation to Fortran.  \n",
    "K function changed as no equivalent functionality.  \n",
    "Dry convection seemed to fix surface T problem.  \n",
    "Optimised mainly with array calculation order - still more to do\n",
    "\n",
    "### Final FMS Setup\n",
    "# Model Setup\n",
    "Reached stable clear-sky \"control\" setup.\n",
    "\n",
    "Surface pressure p = 10 bar\n",
    "\n",
    "Stellar Flux L = 1370 x 2590 = 3548300 $Wm^{-2}$\n",
    "\n",
    "Built up to gradually - problems initialising at high T\n",
    "\n",
    "Timestep dt = 10s\n",
    "\n",
    "Needed smaller timestep while reaching full L\n",
    "\n",
    "Optical thickness $\\tau$ = 8.0\n",
    "\n",
    "Estimated using 1D Fortran code locally\n",
    "### FMS Results\n",
    "\n",
    "\n",
    "Max temperature as expected - T plot\n",
    "Stable setup? - time running\n",
    "Strong eastward jet quickly forms (velocity maps) - cf westward at low T (old scaled runs) - heat redist (nightside vs shift)\n",
    "Hotspot shift - 40 in Demory - range from 10 to 100 - show line graph and levels\n",
    "Circulation - slices - rising air - jet - surface winds\n",
    "Animations\n",
    "\n",
    "\n",
    "  \n",
    "Can hotspot shift in reality be from jet? Literature mostly about HJs. Could be combination with clouds/SWA? Also T contrast in measurements - clouds on nightside?\n",
    "\n",
    "Available plots:  \n",
    "1) T heatmap (different levels)  \n",
    "2) Meridional T heatmap (different levels)  \n",
    "3) Plot of hotspot lon  \n",
    "4) Overhead (streamplots, speeds, pressure)  \n",
    "6) Slices (streamplots, speeds, pressure)  \n",
    "7) Superrotation average (velocity, transpot) \n",
    "HTML(\"\"\"\n",
    "<video width=\"320\" height=\"240\" controls>\n",
    "  <source src=\"animation_planet_flat.mp4\" type=\"video/mp4\">\n",
    "</video>\"\"\")\n",
    "### Lit Review\n",
    "### To Do\n",
    "Use CIA in FMS (not just params)\n",
    "\n",
    "Add MA\n",
    "\n",
    "Test different pressures"
   ]
  },
  {
   "cell_type": "code",
   "execution_count": 4,
   "metadata": {
    "collapsed": false
   },
   "outputs": [
    {
     "data": {
      "text/html": [
       "<video width=\"320\" height=\"240\" controls>\n",
       "  <source src=\"animation_planet_flat.mp4.mp4\" type=\"video/mp4\">\n",
       "</video>"
      ],
      "text/plain": [
       "<IPython.core.display.HTML object>"
      ]
     },
     "metadata": {},
     "output_type": "display_data"
    }
   ],
   "source": [
    "%%HTML\n",
    "<video width=\"320\" height=\"240\" controls>\n",
    "  <source src=\"animation_planet_flat.mp4.mp4\" type=\"video/mp4\">\n",
    "</video>"
   ]
  },
  {
   "cell_type": "code",
   "execution_count": null,
   "metadata": {
    "collapsed": true
   },
   "outputs": [],
   "source": [
    "%%HTML\n",
    "<video width=\"320\" height=\"240\" controls>\n",
    "  <source src=\"animation_planet_flat.mp4.mp4\" type=\"video/mp4\">\n",
    "</video>"
   ]
  }
 ],
 "metadata": {
  "anaconda-cloud": {},
  "kernelspec": {
   "display_name": "Python [Root]",
   "language": "python",
   "name": "Python [Root]"
  },
  "language_info": {
   "codemirror_mode": {
    "name": "ipython",
    "version": 2
   },
   "file_extension": ".py",
   "mimetype": "text/x-python",
   "name": "python",
   "nbconvert_exporter": "python",
   "pygments_lexer": "ipython2",
   "version": "2.7.12"
  }
 },
 "nbformat": 4,
 "nbformat_minor": 0
}
