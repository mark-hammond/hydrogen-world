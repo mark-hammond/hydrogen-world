{
 "cells": [
  {
   "cell_type": "markdown",
   "metadata": {},
   "source": [
    "# 55CNCE-04-Dynamics\n",
    "## 1-Grey Gas\n",
    "Run at 10 bar, L=1000, initialised to dry adiabat at T$_{s}$ = 400K with minimum 140K. Reaches eqm after about 50 days, plots below at 300 days (or average of 100-200 days).  \n",
    "Grey gas requires larger timestep? May just be T timescale...?\n",
    "<hr>\n",
    "### 1.1-Wind profile around equator\n",
    "Air rises from substellar point forming circulation. Colour behind is *vertical* wind speed only.  \n",
    "NB vertical scale is wrong (scaled from Pa/s), but you get the idea.\n",
    "<img src=\"equatorwindslice.png\" alt=\"best_rain.png\" style=\"width: 1000px;\"/>\n",
    "<hr>\n",
    "### 1.2-Surface Wind (10 bar)\n",
    "Air moves towards substellar hot spot from east and west.  \n",
    "<img src=\"surfacewind.png\" alt=\"best_rain.png\" style=\"width: 1000px;\"/>\n",
    "Streamlines overlaid on pressure anomaly.  \n",
    "Low pressure due to stellar surface heating - so why largest anomaly not at substellar point?  \n",
    "Could be because jet smoothes out low pressure from -20deg to +20deg, or stronger vertical winds at equator?\n",
    "<img src=\"surfacepanomaly.png\" alt=\"best_rain.png\" style=\"width: 1000px;\"/>\n",
    "Pattern of winds similar to surface air T.\n",
    "<img src=\"tsurfair.png\" alt=\"best_rain.png\" style=\"width: 1000px;\"/>\n",
    "<hr>\n",
    "### 1.3-Wind at 2 bar\n",
    "Majority of atmosphere forms equatorial jet.  \n",
    "NB T(p) on dry adiabat up to 1-2 bar.\n",
    "<img src=\"windspeed2bar.png\" alt=\"best_rain.png\" style=\"width: 1000px;\"/>\n",
    "<!---\n",
    "Nearly uniform T at 2 bar as jet distributes T.\n",
    "<img src=\"temp2bar.png\" alt=\"best_rain.png\" style=\"width: 1000px;\"/>\n",
    "-->\n",
    "<hr>\n",
    "### 1.4-Vertical wind at surface\n",
    "Air rises at substellar point, and also in low-pressure areas around +/-40deg\n",
    "<img src=\"verticalwind.png\" alt=\"best_rain.png\" style=\"width: 1000px;\"/>\n",
    "### 1.5-Surface wind with low Cp\n",
    "For Earth-air Cp = 1000, (not 14000), much weaker winds! Max wind is 10m/s rather than 40m/s.  \n",
    "Why does lower Cp weaken winds - surely need to transport more air to transport same heat?\n",
    "<img src=\"surfacewindlowcp.png\" alt=\"best_rain.png\" style=\"width: 1000px;\"/>"
   ]
  },
  {
   "cell_type": "code",
   "execution_count": null,
   "metadata": {
    "collapsed": true
   },
   "outputs": [],
   "source": []
  }
 ],
 "metadata": {
  "anaconda-cloud": {},
  "kernelspec": {
   "display_name": "Python [Root]",
   "language": "python",
   "name": "Python [Root]"
  },
  "language_info": {
   "codemirror_mode": {
    "name": "ipython",
    "version": 2
   },
   "file_extension": ".py",
   "mimetype": "text/x-python",
   "name": "python",
   "nbconvert_exporter": "python",
   "pygments_lexer": "ipython2",
   "version": "2.7.12"
  }
 },
 "nbformat": 4,
 "nbformat_minor": 0
}
