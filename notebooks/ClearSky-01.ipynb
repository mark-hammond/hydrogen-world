{
 "cells": [
  {
   "cell_type": "code",
   "execution_count": 2,
   "metadata": {
    "collapsed": false
   },
   "outputs": [],
   "source": [
    "from IPython.display import HTML,display"
   ]
  },
  {
   "cell_type": "markdown",
   "metadata": {},
   "source": [
    "# ClearSky-01\n",
    "3D GCM modelling of a H2 atmosphere on 55 Cancri e.\n",
    "\n"
   ]
  },
  {
   "cell_type": "markdown",
   "metadata": {},
   "source": [
    "\n",
    "## 1. Runs\n",
    "All runs 8-day average after model reaches radiative stability, and appears to have finished developing dynamically.\n",
    "### 1.1 10 Bar and 3 Bar\n",
    "#### Temperature\n",
    "10 bar run has higher average surface air temperature and smaller day-night contrast than 3 bar - could be caused by stronger winds and/or better heat retention on nightside. Both have small hot-spot shift.\n",
    "\n",
    "\n",
    "<table><tr><td>**10 bar surface air T**<img src='T_surf_20_10bar.svg'></td><td>**3 bar surface air T**<img src='T_surf_18_3bar.svg'></td></tr></table>\n",
    "\n",
    "Mid-atmosphere temperature is more uniform for 10 bar, and effect of equatorial jet more evident. Hot-spot shift larger than at surface.\n",
    "\n",
    "<table><tr><td>**10 bar air T at jet (5 bar)**<img src='T_jet_20_10bar.svg'></td><td>**3 bar air T at jet (1.5 bar)**<img src='T_jet_18_3bar.svg'></td></tr></table>\n",
    "\n",
    "#### Winds\n",
    "\n",
    "Show winds drawn to substellar point.\n",
    "\n",
    "<table><tr><td>**10 bar surface wind**<img src='wind_surf_20_10bar.svg'></td><td>**3 bar surface wind**<img src='wind_surf_18_3bar.svg'></td></tr></table>\n",
    "\n",
    "Both runs show equatorial jet, with cyclones at different longitudes (NB 3 bar run is not stable when seen at higher time res - cyclone comes and goes!)\n",
    "\n",
    "<table><tr><td>**10 bar jet (5 bar) wind**<img src='wind_jet_20_10bar.svg'></td><td>**3 bar jet (1.5 bar) wind**<img src='wind_jet_18_3bar.svg'></td></tr></table>\n",
    "\n",
    "#### Pattern\n",
    "\n",
    "Carone 2014 (https://arxiv.org/pdf/1508.00419v1.pdf) describes two circulation patterns based on theory of Showman and Polvani 2011 (http://iopscience.iop.org/article/10.1088/0004-637X/738/1/71/meta).\n",
    "\n",
    "<table><td>**Extratropical Rossby wave result**<img src='carone_pattern_extra.png'></td><td>**Tropical Rossby wave result**<img src='carone_pattern.png'></td></tr></table>\n",
    "\n",
    "Comparison with 10 and 3 bar runs shows they appear to be driven by *extratropical* and *tropical* Rossby waves respectively (although 3 bar run only displays this pattern on average, being unstable on an hourly timescale)\n",
    "\n",
    "<table><td>**10 bar jet wind**<img src='zonalwind_jet_20_10bar.svg'></td><td>**3 bar jet wind**<img src='barewind_jet_18_3bar.svg'></td></tr></table>\n",
    "\n",
    "Double and single jet in 10 and 3 bar atmospheres shown by from average zonal winds.\n",
    "\n",
    "<table><td>**10 bar mean zonal wind**<img src='superrot_20_10bar.svg'></td><td>**3 bar mean zonal wind**<img src='superrot_18_3bar.svg'></td></tr></table>\n",
    "\n",
    "\n",
    "#### Hot spot location\n",
    "\n",
    "Can plot meridionally averaged temperature to compare to Demory, e.g. at surface and mid-atmosphere for the 3 bar run, showing observed hot-spot location.\n",
    "\n",
    "<table><tr><td>**3 bar meridionally averaged surface air T**<img src='Tmer_surf_18_3bar.svg'></td><td>**3 bar meridionally averaged jet air T**<img src='Tmer_jet_18_3bar.svg'></td></tr></table>\n",
    "\n",
    "This can then be plotted versus longitude for each atmosphere.\n",
    "\n",
    "<table><td>**10 bar merid. avg. hot spot location at pressure levels**<img src='hotspotlocation_10bar.svg'></td><td>**3 bar merid. avg. hot spot location at pressure levels**<img src='hotspotlocation_3bar.svg'></td></tr></table>\n",
    "\n",
    "\n",
    "#### Jet formation\n",
    "\n",
    "Showman and Polvani (2011) say that Rossby waves transport momentum to equator on tidally locked planets, inducing superrotation given the correct parameters.\n",
    "\n",
    "From (http://iopscience.iop.org/article/10.1088/0004-637X/738/1/71/meta): i) nonlinear shallow-water solution showing chevron; ii) their model in spin-up showing chevron in T; iii) our model in spin-up showing chevron in geopotential height (also in T)\n",
    "\n",
    "<table><tr><td><img src='sp_2011_an_diag.png'></td><td><img src='spTspinup.jpg'></td><td><img src='gph_jet_4_10bar.svg'></td></tr></table>\n",
    "\n",
    "N.B. driving cyclone in different part of atmosphere; see Carone patterns. Third plot is S+P Rossby wave diagram.\n",
    "\n",
    "<table><td><img src='wind_jet_20_10bar.svg'></td><td><img src='spTjet.jpg'></td><td><img src='sp_2011_diag.png'></td></tr></table>\n",
    "\n",
    "<hr>\n"
   ]
  },
  {
   "cell_type": "markdown",
   "metadata": {},
   "source": []
  },
  {
   "cell_type": "markdown",
   "metadata": {
    "collapsed": true
   },
   "source": [
    "\n"
   ]
  },
  {
   "cell_type": "code",
   "execution_count": null,
   "metadata": {
    "collapsed": true
   },
   "outputs": [],
   "source": []
  }
 ],
 "metadata": {
  "anaconda-cloud": {},
  "kernelspec": {
   "display_name": "Python [Root]",
   "language": "python",
   "name": "Python [Root]"
  },
  "language_info": {
   "codemirror_mode": {
    "name": "ipython",
    "version": 2
   },
   "file_extension": ".py",
   "mimetype": "text/x-python",
   "name": "python",
   "nbconvert_exporter": "python",
   "pygments_lexer": "ipython2",
   "version": "2.7.12"
  }
 },
 "nbformat": 4,
 "nbformat_minor": 0
}
