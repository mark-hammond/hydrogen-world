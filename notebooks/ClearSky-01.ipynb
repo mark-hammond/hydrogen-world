{
 "cells": [
  {
   "cell_type": "code",
   "execution_count": 2,
   "metadata": {
    "collapsed": false
   },
   "outputs": [],
   "source": [
    "from IPython.display import HTML,display\n"
   ]
  },
  {
   "cell_type": "markdown",
   "metadata": {},
   "source": [
    "# ClearSky-01\n",
    "3D GCM modelling of a H2 atmosphere on 55 Cancri e.\n",
    "\n"
   ]
  },
  {
   "cell_type": "markdown",
   "metadata": {},
   "source": [
    "\n",
    "## 1. Runs\n",
    "\n",
    "### 1.1 10 Bar and 3 Bar\n",
    "#### Temperature\n",
    "i) Surface and ii) 5 bar air temperature (avg from 12-20 days). Shows efficient heat distribution and retention by thick atmosphere.\n",
    "\n",
    "\n",
    "<table><tr><td>**10 bar surface air T**<img src='T_surf_20_10bar.svg'></td><td>**3 bar surface air T**<img src='T_surf_18_3bar.svg'></td></tr></table>\n",
    "\n",
    "<table><tr><td>**10 bar air T at jet (5 bar)**<img src='T_jet_20_10bar.svg'></td><td>**3 bar air T at jet (1.5 bar)**<img src='T_jet_18_3bar.svg'></td></tr></table>\n",
    "\n",
    "#### Winds\n",
    "\n",
    "i) Surface and ii) 5 bar winds (max jet speed 1km/s). Show winds drawn to substellar point, and jet formation.\n",
    "\n",
    "<table><tr><td>**10 bar surface wind**<img src='wind_surf_20_10bar.svg'></td><td>**3 bar surface wind**<img src='wind_surf_18_3bar.svg'></td></tr></table>\n",
    "\n",
    "<table><tr><td>**10 bar jet (5 bar) wind**<img src='wind_jet_20_10bar.svg'></td><td>**3 bar jet (1.5 bar) wind**<img src='wind_jet_18_3bar.svg'></td></tr></table>\n",
    "\n",
    "#### Pattern\n",
    "\n",
    "<table><td>**Extratropical Rossby wave result**<img src='carone_pattern_extra.png'></td><td>**Tropical Rossby wave result**<img src='carone_pattern.png'></td></tr></table>\n",
    "\n",
    "<table><td>**10 bar jet wind**<img src='zonalwind_jet_20_10bar.svg'></td><td>**3 bar jet wind**<img src='barewind_jet_18_3bar.svg'></td></tr></table>\n",
    "\n",
    "<table><td>**10 bar mean zonal wind**<img src='superrot_20_10bar.svg'></td><td>**3 bar mean zonal wind**<img src='superrot_18_3bar.svg'></td></tr></table>\n",
    "\n",
    "\n",
    "#### Hot spot location\n",
    "\n",
    "<table><tr><td>**3 bar meridionally averaged surface air T**<img src='Tmer_surf_18_3bar.svg'></td><td>**3 bar meridionally averaged jet air T**<img src='Tmer_jet_18_3bar.svg'></td></tr></table>\n",
    "\n",
    "<table><td>**10 bar merid. avg. hot spot location at pressure levels**<img src='hotspotlocation_10bar.svg'></td><td>**3 bar merid. avg. hot spot location at pressure levels**<img src='hotspotlocation_3bar.svg'></td></tr></table>\n",
    "\n",
    "\n",
    "\n"
   ]
  },
  {
   "cell_type": "markdown",
   "metadata": {},
   "source": [
    "#### Jet formation\n",
    "\n",
    "<table><tr><td><img src='sp_2011_an_diag.png'></td><td><img src='spTspinup.jpg'></td><td><img src='gph_jet_4_10bar.svg'></td></tr></table>\n",
    "\n",
    "N.B. driving cyclone in different part of atmosphere:\n",
    "\n",
    "<table><td><img src='wind_jet_20_10bar.svg'></td><td><img src='spTjet.jpg'></td><td><img src='sp_2011_diag.png'></td></tr></table>\n",
    "\n",
    "<hr>"
   ]
  },
  {
   "cell_type": "markdown",
   "metadata": {
    "collapsed": true
   },
   "source": [
    "### 2.1 10 Bar\n",
    "#### Temperature\n",
    "i) Surface and ii) 5 bar air temperature (avg from 12-20 days). Shows efficient heat distribution and retention by thick atmosphere.\n",
    "\n",
    "<table><tr><td><img src='T_surf_20_10bar.svg'></td><td><img src='T_jet_20_10bar.svg'></td></tr></table>\n",
    "\n",
    "i) Surface and ii) 5 bar winds (max jet speed 1km/s). Show winds drawn to substellar point, and jet formation.\n",
    "\n",
    "<table><tr><td><img src='wind_surf_20_10bar.svg'></td><td><img src='wind_jet_20_10bar.svg'></td></tr></table>\n",
    "\n",
    "<hr>\n",
    "\n",
    "\n",
    "#### Comparison to S+P 2011\n",
    "Showman and Polvani (2011) say that Rossby waves transport momentum to equator on tidally locked planets, inducing superrotation given the correct parameters.\n",
    "\n",
    "From (http://iopscience.iop.org/article/10.1088/0004-637X/738/1/71/meta): i) nonlinear shallow-water solution showing chevron; ii) their model in spin-up showing chevron in T; iii) our model in spin-up showing chevron in geopotential height (also in T)\n",
    "<table><tr><td><img src='spgphchev.jpg'></td><td><img src='spTspinup.jpg'></td><td><img src='gph_jet_4_10bar.svg'></td></tr></table>\n",
    "\n",
    "N.B. driving cyclone in different part of atmosphere:\n",
    "\n",
    "<table><td><img src='wind_jet_20_10bar.svg'></td><td><img src='spTjet.jpg'></td></tr></table>\n",
    "\n",
    "\n",
    "<hr>\n",
    "\n",
    "#### Comparison to Carone 2014\n",
    "Carone (https://arxiv.org/pdf/1508.00419v1.pdf) describes two patterns.\n",
    "\n",
    "<table><td><img src='carone_pattern_extra.png'></td><td><img src='carone_pattern.png'></td></tr></table>\n",
    "\n",
    "Our model appears to follow the pattern caused by *extratropical* Rossby waves - compare with the streamlines at 5 bar for the 10 bar atmosphere. The two maxima in the jet in this pattern can be seen more clearly in the meridionally averaged zonal wind speed.\n",
    "\n",
    "<table><td><img src='zonalwind_jet_20_10bar.svg'></td><td><img src='superrot_20_10bar.svg'></td></tr></table>\n",
    "\n",
    "However, S+P's model appears to follow the *tropical* Rossby wave pattern, shown most clearly by the shifted cyclones and associated cold spots:\n",
    "\n",
    "\n",
    "The difference is caused by\n",
    "\n",
    "<hr>\n",
    "### 2.2 3 Bar\n",
    "Lower p so lambda larger so tropical pattern. Single jet, cyclone position moved, stronger winds.\n"
   ]
  },
  {
   "cell_type": "code",
   "execution_count": null,
   "metadata": {
    "collapsed": true
   },
   "outputs": [],
   "source": []
  }
 ],
 "metadata": {
  "anaconda-cloud": {},
  "kernelspec": {
   "display_name": "Python [Root]",
   "language": "python",
   "name": "Python [Root]"
  },
  "language_info": {
   "codemirror_mode": {
    "name": "ipython",
    "version": 2
   },
   "file_extension": ".py",
   "mimetype": "text/x-python",
   "name": "python",
   "nbconvert_exporter": "python",
   "pygments_lexer": "ipython2",
   "version": "2.7.12"
  }
 },
 "nbformat": 4,
 "nbformat_minor": 0
}
