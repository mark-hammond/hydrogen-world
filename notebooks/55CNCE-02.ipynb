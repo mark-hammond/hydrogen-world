{
 "cells": [
  {
   "cell_type": "markdown",
   "metadata": {},
   "source": [
    "# 55CNCE-02\n",
    "Update\n",
    "<hr>\n",
    "### Isothermal upper atmosphere\n",
    "As you said - flux is constant where atmosphere tends to isotherm.  Low res so a bit wonky in the low atmosphere.   \n",
    "<img src=\"isotherm_flux.svg\" alt=\"isotherm_flux.svg\" style=\"width: 1000px;\"/>\n",
    "\n",
    "### Brightness T and Radiating Level\n",
    "Similar result - all outgoing radiation is from a radiating level with p above 1 bar.  \n",
    "<img src=\"brightT_radL.svg\" alt=\"brightT_radL.svg\" style=\"width: 1000px;\"/>\n",
    "\n",
    "### Surface Balance\n",
    "I checked T$_{g}$ and it's not actually as high as I'd thought - only about 100K higher than the surface layer, with a purely radiative surface balance.\n",
    "\n",
    "I've read through chapter 6, and added a basic mixing term to the model surface balance ( kturb * (Tg-T[-1]) ).  \n",
    "  \n",
    "As I understand it, all convection etc. will just bring the surface and the surface layer closer in temperature, (with a small kturb term, the difference is about 70K), so won't make a big difference? Should I still add a more realistic convection term to see what happens?  \n",
    "\n",
    "### Scattering\n",
    "I've been working through Chapter 5 to get up to speed with the scattering effects we talked about.   \n",
    "\n",
    "I'm calculating the albedo like Problem 5.25 which I think is the method you were talking about - based on TwoStreamScatteringEsum.py, but with the continuum data and the generalised analytic solution from Problem 5.12.  \n",
    "\n",
    "I'll keep working on it but it might be good to talk through the method briefly at some point to make sure I'm on the right track!\n",
    "\n"
   ]
  },
  {
   "cell_type": "code",
   "execution_count": null,
   "metadata": {
    "collapsed": true
   },
   "outputs": [],
   "source": []
  }
 ],
 "metadata": {
  "anaconda-cloud": {},
  "kernelspec": {
   "display_name": "Python [Root]",
   "language": "python",
   "name": "Python [Root]"
  },
  "language_info": {
   "codemirror_mode": {
    "name": "ipython",
    "version": 2
   },
   "file_extension": ".py",
   "mimetype": "text/x-python",
   "name": "python",
   "nbconvert_exporter": "python",
   "pygments_lexer": "ipython2",
   "version": "2.7.12"
  }
 },
 "nbformat": 4,
 "nbformat_minor": 0
}
