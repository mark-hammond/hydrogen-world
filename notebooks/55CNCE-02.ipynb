{
 "cells": [
  {
   "cell_type": "markdown",
   "metadata": {},
   "source": [
    "# 55CNCE-02\n",
    "Upper atmosphere checks - surface balance - analytic/stepping scattering - Terraviz\n",
    "<hr>"
   ]
  },
  {
   "cell_type": "markdown",
   "metadata": {},
   "source": [
    "### Isothermal upper atmosphere\n",
    "As you said - flux is constant where atmosphere tends to isotherm.  Low res so a bit wonky in the low atmosphere.   \n",
    "<img src=\"isotherm_flux.svg\" alt=\"isotherm_flux.svg\" style=\"width: 1000px;\"/>\n",
    "<hr>"
   ]
  },
  {
   "cell_type": "markdown",
   "metadata": {},
   "source": [
    "### Brightness T and Radiating Level\n",
    "Similar result - all outgoing radiation is from a radiating level with p above 1 bar. I think these plots confirm that there's no need to have the pressure going below about 0.1 bar?  \n",
    "<img src=\"brightT_radL.svg\" alt=\"brightT_radL.svg\" style=\"width: 1000px;\"/>\n",
    "<hr>"
   ]
  },
  {
   "cell_type": "markdown",
   "metadata": {},
   "source": [
    "### Surface Balance\n",
    "I checked T$_{g}$ and it's not actually as high as I'd thought - only about 100K higher than the surface layer, with a purely radiative surface balance.\n",
    "\n",
    "I've read through chapter 6, and added a basic mixing term to the model surface balance ( kturb * (Tg-T[-1]) ).  \n",
    "  \n",
    "As I understand it, all convection etc. will just bring the surface and the surface layer closer in temperature, (with a small kturb term, the difference is about 70K), so won't make a big difference? Should I still add a more realistic convection term to see what happens?  \n",
    "<hr>"
   ]
  },
  {
   "cell_type": "markdown",
   "metadata": {},
   "source": [
    "### Scattering\n",
    "Using analytic solution with g=0.2 ,mu=0.5 (?), Eddington coefficients, perfectly absorbing surface, stellar T = 5000K. \n",
    "Effect on RC equilibrium?\n",
    "\n",
    "<img src=\"SSA_reflect.svg\" alt=\"SSA_reflect.svg\" style=\"width: 1000px;\"/>\n",
    "\n",
    "Replot OLR graph - not great difference.\n",
    "\n",
    "<img src=\"albedo_P.svg\" alt=\"albedo_P.svg\" style=\"width: 500px;\"/>\n",
    "\n",
    "Lower albedo than https://users.physics.ox.ac.uk/~pierrehumbert/papers/H2Worlds.pdf at low T - higher absorption?  \n",
    "  \n",
    "Heating - run time-stepping and add heat generated to RC for first-order estimate - nb comments about direct/indirect beam.  \n",
    "\n",
    "Include time-stepping scattering in RC?\n",
    "<hr>"
   ]
  },
  {
   "cell_type": "markdown",
   "metadata": {},
   "source": [
    "### Terraviz/SOS Explorer\n",
    "Shows off animations, comparing datasets, and drawing transects etc quite nicely!\n"
   ]
  },
  {
   "cell_type": "code",
   "execution_count": 27,
   "metadata": {
    "collapsed": false
   },
   "outputs": [
    {
     "data": {
      "text/html": [
       "<script>\n",
       "code_show=true; \n",
       "function code_toggle() {\n",
       " if (code_show){\n",
       " $('div.input').hide();\n",
       " } else {\n",
       " $('div.input').show();\n",
       " }\n",
       " code_show = !code_show\n",
       "} \n",
       "$( document ).ready(code_toggle);\n",
       "</script>\n",
       "<form action=\"javascript:code_toggle()\"><input type=\"submit\" value=\"Toggle Code\"></form>"
      ],
      "text/plain": [
       "<IPython.core.display.HTML object>"
      ]
     },
     "execution_count": 27,
     "metadata": {},
     "output_type": "execute_result"
    }
   ],
   "source": [
    "from IPython.display import HTML\n",
    "\n",
    "HTML('''<script>\n",
    "code_show=true; \n",
    "function code_toggle() {\n",
    " if (code_show){\n",
    " $('div.input').hide();\n",
    " } else {\n",
    " $('div.input').show();\n",
    " }\n",
    " code_show = !code_show\n",
    "} \n",
    "$( document ).ready(code_toggle);\n",
    "</script>\n",
    "<form action=\"javascript:code_toggle()\"><input type=\"submit\" value=\"Toggle Code\"></form>''')"
   ]
  },
  {
   "cell_type": "code",
   "execution_count": 28,
   "metadata": {
    "collapsed": false
   },
   "outputs": [
    {
     "data": {
      "text/html": [
       "<iframe src=\"https://player.vimeo.com/video/142661234?title=0&byline=0&portrait=0\" width=\"1000\" height=\"550\" frameborder=\"0\" webkitallowfullscreen mozallowfullscreen allowfullscreen></iframe>"
      ],
      "text/plain": [
       "<IPython.core.display.HTML object>"
      ]
     },
     "execution_count": 28,
     "metadata": {},
     "output_type": "execute_result"
    }
   ],
   "source": [
    "HTML('<iframe src=\"https://player.vimeo.com/video/142661234?title=0&byline=0&portrait=0\" width=\"1000\" height=\"550\" frameborder=\"0\" webkitallowfullscreen mozallowfullscreen allowfullscreen></iframe>')"
   ]
  },
  {
   "cell_type": "code",
   "execution_count": null,
   "metadata": {
    "collapsed": true
   },
   "outputs": [],
   "source": []
  }
 ],
 "metadata": {
  "anaconda-cloud": {},
  "kernelspec": {
   "display_name": "Python [Root]",
   "language": "python",
   "name": "Python [Root]"
  },
  "language_info": {
   "codemirror_mode": {
    "name": "ipython",
    "version": 2
   },
   "file_extension": ".py",
   "mimetype": "text/x-python",
   "name": "python",
   "nbconvert_exporter": "python",
   "pygments_lexer": "ipython2",
   "version": "2.7.12"
  }
 },
 "nbformat": 4,
 "nbformat_minor": 0
}
