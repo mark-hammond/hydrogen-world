{
 "cells": [
  {
   "cell_type": "markdown",
   "metadata": {},
   "source": [
    "### CO/CO2\n",
    "\n",
    "### Different CO/CO2 ratios\n",
    "\n",
    "Temperature profiles; pure CO similar to grey-gas, and CO2 has stronger SW absorption\n",
    "\n",
    "| 100% CO | 50% CO, 50% CO2 | 100% CO2\n",
    "-| - | - | - \n",
    "0.01 | ![alt](T_0.01_co.svg) | ![alt](T_0.01_co_co2.svg) | ![alt](T_0.01_co2.svg)\n",
    "0.001 | ![alt](T_0.001_co.svg) | ![alt](T_0.001_co_co2.svg) | ![alt](T_0.001_co2.svg)\n",
    "\n",
    "\n",
    "| 100% CO | 50% CO, 50% CO2 | 100% CO2\n",
    "-| - | - | - \n",
    "0.01 | ![alt](f_0.01_co.svg) | ![alt](f_0.01_co_co2.svg) | ![alt](f_0.01_co2.svg)\n",
    "0.001 | ![alt](f_0.001_co.svg) | ![alt](f_0.001_co_co2.svg) | ![alt](f_0.001_co2.svg)\n",
    "\n",
    "### Fixed ratio\n",
    "\n",
    "Heng paper predicts [CO] = 100[CO2] at most (much less CO2 at higher T really...)\n",
    "\n",
    "Plots are various surface pressures with the same CO/CO2 ratio.\n",
    "\n",
    "| 10 bar | 1 bar | 0.1 bar\n",
    "-| - | - | - \n",
    "T | ![alt](T_1_-2.svg) | ![alt](T_0.1_-2.svg) | ![alt](T_0.01_-2.svg)\n",
    "Flux | ![alt](f_1_-2.svg) | ![alt](f_0.1_-2.svg) | ![alt](f_0.01_-2.svg)\n",
    "\n",
    "\n",
    "### Clouds\n",
    "\n",
    "Toy cloud-forming model; fixed surface partial pressure of condensable (chose vapour pressure to condense in this regime). Propagates upwards and condenses out when above vapour pressure, forming cloud particles, which slowly deplete.\n",
    "\n",
    "Cloud optical properties are currently generic droplets\n",
    ", mean radius 0.5 microns.\n",
    "\n",
    "Plots are T(p); cloud concentration and condensable concentration; TOA LW, TOA SW, and surface SW\n",
    "\n",
    "Simple model but get stable clouds in mid-atmosphere and T(p) profile like CO2/CO plots.\n",
    "\n",
    "![alt](test_clouds_noco2.svg)\n",
    "\n",
    "### Equilibrium\n",
    "\n",
    "[CO2]/[CO] ratio at different temperatures for disproportionation of CO to CO2 and C (Boudouard reaction)\n",
    "\n",
    "![alt](boudouard.png)\n",
    "\n",
    "RC equilibirium with 55CNCE substellar flux, given 10 bar of CO and 1 bar of CO.\n",
    "\n",
    "![alt](boud_1.0.svg)\n",
    "![alt](boud_0.1.svg)\n",
    "\n",
    "[CO]/[CO2] follows T(p)\n",
    "\n",
    "More CO2 in higher, colder regions so they absorb more CO2. More distinct \"S\" shape than previous mixtures.\n",
    "\n",
    "\n",
    "\n",
    "\n",
    "\n"
   ]
  },
  {
   "cell_type": "code",
   "execution_count": null,
   "metadata": {
    "collapsed": true
   },
   "outputs": [],
   "source": []
  }
 ],
 "metadata": {
  "anaconda-cloud": {},
  "kernelspec": {
   "display_name": "Python [Root]",
   "language": "python",
   "name": "Python [Root]"
  },
  "language_info": {
   "codemirror_mode": {
    "name": "ipython",
    "version": 2
   },
   "file_extension": ".py",
   "mimetype": "text/x-python",
   "name": "python",
   "nbconvert_exporter": "python",
   "pygments_lexer": "ipython2",
   "version": "2.7.12"
  }
 },
 "nbformat": 4,
 "nbformat_minor": 0
}
