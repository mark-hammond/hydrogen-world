{
 "cells": [
  {
   "cell_type": "markdown",
   "metadata": {},
   "source": [
    "## 55 Cancri e with SOCRATES radiative transfer\n",
    "\n",
    "Testing SOCRATES workflow to solve radiative transfer for custom p profile, T(p), mixing ratios, and HITEMP data. Post-processing only, although no fundamental difference to use in a GCM.\n",
    "\n",
    "Possible uses: outgoing spectrum, phase curves at different wavelengths, 1D radiative-convection equilibrium, effects of SW absorption\n",
    "\n",
    "\n",
    "\n",
    "### CO\n",
    "\n",
    "Chose CO as it is low-res in one HITEMP file, so takes less time to generate and use than multiple hi-res CO2/H20 files. Also has a feature at 4.5 micron.\n",
    "\n",
    "OLR spectrum for a mixing ratio of 0.00001 CO for the 5 bar H2+N2 atmosphere (with no CIA)\n",
    "<img src=\"toa_lw.svg\" alt=\"H2_OLR_ILR.svg\" style=\"width: 600px;\"/>  \n",
    "\n",
    "CO surface SW spectrum for many columns\n",
    "<img src=\"sw_abs.svg\" alt=\"H2_OLR_ILR.svg\" style=\"width: 600px;\"/>  \n",
    "\n",
    "Hooked up to dry convection to test RC equilibrium. Red and green lines correspond to red and green spectra - high heating between them as that's where most of the shortwave absorption takes place.\n",
    "\n",
    "<img src=\"co_swa_rceqm.svg\" alt=\"H2_OLR_ILR.svg\" style=\"width: 1000px;\"/>  \n"
   ]
  },
  {
   "cell_type": "code",
   "execution_count": 2,
   "metadata": {
    "collapsed": false
   },
   "outputs": [
    {
     "data": {
      "text/html": [
       "\n",
       "<video width=\"800\" height=\"700\" controls>\n",
       "  <source src=\"file.mp4\" type=\"video/mp4\">\n",
       "</video>\n"
      ],
      "text/plain": [
       "<IPython.core.display.HTML object>"
      ]
     },
     "execution_count": 2,
     "metadata": {},
     "output_type": "execute_result"
    }
   ],
   "source": [
    "from IPython.display import HTML\n",
    "\n",
    "HTML(\"\"\"\n",
    "<video width=\"800\" height=\"700\" controls>\n",
    "  <source src=\"file.mp4\" type=\"video/mp4\">\n",
    "</video>\n",
    "\"\"\")"
   ]
  },
  {
   "cell_type": "markdown",
   "metadata": {
    "collapsed": true
   },
   "source": [
    "### H2/H2 CIA + CO"
   ]
  },
  {
   "cell_type": "code",
   "execution_count": null,
   "metadata": {
    "collapsed": true
   },
   "outputs": [],
   "source": []
  }
 ],
 "metadata": {
  "anaconda-cloud": {},
  "kernelspec": {
   "display_name": "Python [Root]",
   "language": "python",
   "name": "Python [Root]"
  },
  "language_info": {
   "codemirror_mode": {
    "name": "ipython",
    "version": 2
   },
   "file_extension": ".py",
   "mimetype": "text/x-python",
   "name": "python",
   "nbconvert_exporter": "python",
   "pygments_lexer": "ipython2",
   "version": "2.7.12"
  }
 },
 "nbformat": 4,
 "nbformat_minor": 0
}
