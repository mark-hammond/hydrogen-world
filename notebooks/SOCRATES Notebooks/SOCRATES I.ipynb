{
 "cells": [
  {
   "cell_type": "markdown",
   "metadata": {},
   "source": [
    "## 55 Cancri e with SOCRATES radiative transfer\n",
    "\n",
    "Testing SOCRATES workflow to solve radiative transfer for custom p profile, T(p), mixing ratios, and HITEMP data. Post-processing only, although no fundamental difference to use in a GCM.\n",
    "\n",
    "\n",
    "### CO\n",
    "\n",
    "Chose CO as it is low-res in one HITEMP file, so takes less time to generate and use than multiple hi-res CO2/H20 files. Also has a feature at 4.5 micron.\n",
    "\n",
    "OLR spectrum for a CO mass mixing ratio of 0.00001 for the 5 bar H2+N2 atmosphere (with no CIA)\n",
    "<img src=\"toa_lw.svg\" alt=\"H2_OLR_ILR.svg\" style=\"width: 600px;\"/>  \n",
    "\n",
    "CO surface SW spectrum for the same setup.\n",
    "<img src=\"sw_abs.svg\" alt=\"H2_OLR_ILR.svg\" style=\"width: 600px;\"/>  \n"
   ]
  },
  {
   "cell_type": "markdown",
   "metadata": {},
   "source": [
    "### Rad-conv eqm with SOCRATES radiative transfer\n",
    "\n",
    "Hooked up to rad-conv equilibrium routine, and it runs pretty quickly even in high-res (300 bins). \"GCM mode\" seems to be about 5-10 bins.\n",
    "\n",
    "<img src=\"co_swa_rceqm.svg\" alt=\"H2_OLR_ILR.svg\" style=\"width: 1000px;\"/>  \n",
    "\n",
    "Red and green lines correspond to red and green spectra - high heating between them as that's where most of the shortwave absorption takes place.\n"
   ]
  },
  {
   "cell_type": "markdown",
   "metadata": {},
   "source": [
    "### Phase curve vs wavelength\n",
    "\n",
    "Plot below shows how observed phase curve amplitude varies with wavelength (for postprocessed H2N2 ExoFMS run with 0.00001 CO, as before). Clear how phase curve amplitude is suppressed by absorption features, with negligible amplitude where the absorption is saturated. \n",
    "\n",
    "<img src=\"phasecurves_amp.svg\" alt=\"H2_OLR_ILR.svg\" style=\"width: 600px;\"/> \n",
    "\n",
    "See Figure 3 of http://iopscience.iop.org/article/10.3847/2041-8205/832/1/L12/meta for a similar plot, although they're comparing \n",
    "\n",
    "Video shows the same thing. I think it's a clearer argument for a window at 4.5 micron that the previous \"we need to see the lower atmosphere\" argument, although it comes down to pretty much the same thing."
   ]
  },
  {
   "cell_type": "code",
   "execution_count": 1,
   "metadata": {
    "collapsed": false
   },
   "outputs": [
    {
     "data": {
      "text/html": [
       "\n",
       "<video width=\"800\" height=\"700\" controls>\n",
       "  <source src=\"file.mp4\" type=\"video/mp4\">\n",
       "</video>\n"
      ],
      "text/plain": [
       "<IPython.core.display.HTML object>"
      ]
     },
     "execution_count": 1,
     "metadata": {},
     "output_type": "execute_result"
    }
   ],
   "source": [
    "from IPython.display import HTML\n",
    "\n",
    "HTML(\"\"\"\n",
    "<video width=\"800\" height=\"700\" controls>\n",
    "  <source src=\"file.mp4\" type=\"video/mp4\">\n",
    "</video>\n",
    "\"\"\")"
   ]
  }
 ],
 "metadata": {
  "anaconda-cloud": {},
  "kernelspec": {
   "display_name": "Python [Root]",
   "language": "python",
   "name": "Python [Root]"
  },
  "language_info": {
   "codemirror_mode": {
    "name": "ipython",
    "version": 2
   },
   "file_extension": ".py",
   "mimetype": "text/x-python",
   "name": "python",
   "nbconvert_exporter": "python",
   "pygments_lexer": "ipython2",
   "version": "2.7.12"
  }
 },
 "nbformat": 4,
 "nbformat_minor": 0
}
