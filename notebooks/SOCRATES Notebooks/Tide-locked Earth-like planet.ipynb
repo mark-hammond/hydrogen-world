{
 "cells": [
  {
   "cell_type": "markdown",
   "metadata": {},
   "source": [
    "# Tide-locked Earth-like planet\n",
    "\n",
    "Key points:\n",
    "\n",
    "- Transition from clear pattern with two jet cores, two cold vortexes and large hot-spot shift at 5 day period, to pattern with single (?) strong jet, no single vortex, and continuous hot band (in mid-atmosphere) at 1 day period\n",
    "- This is similar to results of Carone paper\n",
    "- 30 day period has similar circulation to 5 day, but less redistribution?\n",
    "\n",
    "NB the runs are starting already spun-up, so may not show the waves forming - I can do some from rest?\n",
    "\n",
    "\n",
    "\n",
    "Period | Mid-atmosphere T and velocity | Mean zonal mass transport | Height of half pressure\n",
    "- | - | - | - \n",
    "1 day| ![alt](1_Tv.svg) | ![alt](1_sr.svg) | ![alt](1_geopot.svg)\n",
    "5 day| ![alt](5_Tv.svg) | ![alt](5_sr.svg) | ![alt](5_geopot.svg)\n",
    "30 day | ![alt](30_Tv.svg) | ![alt](30_sr.svg) | ![alt](30_geopot.svg)\n",
    "\n",
    "Data is at:\n",
    "\n",
    "- 1 day: /network/group/aopp/testvol2/plan/fms-scratch-mdh/fms_output/fv_TL_Earth/test/history/day0700h00/\n",
    "- 5 day: /network/group/aopp/testvol2/plan/fms-scratch-mdh/fms_output/fv_TL_5_Earth/test/history/day0500h00/\n",
    "- 30 day: /network/group/aopp/testvol2/plan/fms-scratch-mdh/fms_output/fv_TL_30_Earth/test/history/day0400h00/\n",
    "\n",
    "All are over 100 days, where \"daily\" is actually 12-hourly, and starting spun-up.\n",
    "\n",
    "\n",
    "### Notes\n",
    "Compare results to Carone - transition to single jet at low (< 3 day) period.\n",
    "\n",
    "Negative geopotential height anomaly corresponds to cold vortexes.\n",
    "\n",
    "NB transience\n",
    "\n",
    "Carone does not see double jet (although predicts from theory!)\n",
    "\n",
    "5 day has \"more\" extra-tropical, so two jets and vortexes shifted west compared to 30 day?\n",
    "\n",
    "30 day has \"more\" tropical, so one+two jets and vortexes shifted east compared to 5 day?\n",
    "\n",
    "30 day geopotential height agrees with Carone"
   ]
  },
  {
   "cell_type": "code",
   "execution_count": null,
   "metadata": {
    "collapsed": true
   },
   "outputs": [],
   "source": []
  }
 ],
 "metadata": {
  "anaconda-cloud": {},
  "kernelspec": {
   "display_name": "Python [Root]",
   "language": "python",
   "name": "Python [Root]"
  },
  "language_info": {
   "codemirror_mode": {
    "name": "ipython",
    "version": 2
   },
   "file_extension": ".py",
   "mimetype": "text/x-python",
   "name": "python",
   "nbconvert_exporter": "python",
   "pygments_lexer": "ipython2",
   "version": "2.7.12"
  }
 },
 "nbformat": 4,
 "nbformat_minor": 0
}
