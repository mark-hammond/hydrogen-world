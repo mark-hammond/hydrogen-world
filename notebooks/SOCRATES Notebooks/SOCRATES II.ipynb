{
 "cells": [
  {
   "cell_type": "markdown",
   "metadata": {},
   "source": [
    "## CO2 on 55 Cancri e\n",
    "\n",
    "CO2 HITRAN data in a 10 bar atmosphere with a constant mixing ratio of CO2.\n",
    "\n",
    "<img src=\"co2_abs_rc.svg\" alt=\"H2_OLR_ILR.svg\" style=\"width: 1000px;\"/>  \n",
    "\n",
    "Notes:\n",
    "\n",
    "- Significant absorption feature at 6000cm-1, at peak of 2900K emission -  CO2 is plausible greenhouse gas here\n",
    "- Feature also absorbs significant stellar flux, although doesn't affect bulk of atmosphere greatly\n",
    "- BUT SW absorption kicks in below about 0.01 bar, leaving atmosphere above it about 250K colder - could enhance night-side cloud effect on amplitude? (except no SW on night-side...)\n",
    "\n",
    "\n",
    "Equal parts CO and CO2\n",
    "\n",
    "- Note that CO has more absorption at lower wavenumber than CO2, so acts more like a normal greenhouse gas.\n",
    "- T(p) is more like normal adiabat\n",
    "- Shortwave heating is more spread out vertically\n",
    "\n",
    "<img src=\"co_co2_0.0001_abs_rc.svg\" alt=\"H2_OLR_ILR.svg\" style=\"width: 1000px;\"/>  \n",
    "\n"
   ]
  },
  {
   "cell_type": "code",
   "execution_count": null,
   "metadata": {
    "collapsed": true
   },
   "outputs": [],
   "source": []
  }
 ],
 "metadata": {
  "kernelspec": {
   "display_name": "Python [Root]",
   "language": "python",
   "name": "Python [Root]"
  },
  "language_info": {
   "codemirror_mode": {
    "name": "ipython",
    "version": 2
   },
   "file_extension": ".py",
   "mimetype": "text/x-python",
   "name": "python",
   "nbconvert_exporter": "python",
   "pygments_lexer": "ipython2",
   "version": "2.7.12"
  }
 },
 "nbformat": 4,
 "nbformat_minor": 0
}
