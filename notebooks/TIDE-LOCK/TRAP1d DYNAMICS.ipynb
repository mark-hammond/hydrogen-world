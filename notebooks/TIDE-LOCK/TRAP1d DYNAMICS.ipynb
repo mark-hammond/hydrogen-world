{
 "cells": [
  {
   "cell_type": "markdown",
   "metadata": {},
   "source": [
    "# TRAP1d\n",
    "\n",
    "\n",
    "***\n",
    "\n",
    "## 4 day period\n",
    "\n",
    "### Streamfunction\n",
    "\n",
    "2 days: Rossby waves form\n",
    "\n",
    "6 days: Kelvin wave clear, extra Rossby wave\n",
    "\n",
    "10 days: Phase tilts develop (S+P 2011)\n",
    "\n",
    "Are the night-side vortices Rossby waves? If so, why are they larger - should have smaller equatorial Rossby radius at lower T?\n",
    "\n",
    "- | 2 days | 6 days | 10 days \n",
    "- | - | - | - | -\n",
    "SF| ![alt](sf_2.png) | ![alt](sf_6.png) | ![alt](sf_10.png)\n",
    "\n",
    "\n",
    "### Height\n",
    "\n",
    "Height field corresponds to streamfunction/velocities. Large white chevron corresponds to first Rossby wave+Kelvin wave (day 2 above) and small white chevron corresponds to second Rossby wave+Kelvin wave (appears in day 6 above).\n",
    "\n",
    "- | 2 days | 6 days | 10 days \n",
    "- | - | - | - | -\n",
    "HGHT| ![alt](hght_2.png) | ![alt](hght_6.png) | ![alt](hght_10.png)\n",
    "\n",
    "Chevron appears in Matsuno solution for mass flux, Showman+Polvani solution for tide-locked instellation.\n",
    "\n",
    "- | Matsuno (1966) | Showman (2011)| FMS (6 days) \n",
    "- | - | - | - | -\n",
    "SF| ![alt](matsuno_pattern.png)| ![alt](sp_chevron.png) | ![alt](hght_6.png)\n",
    "\n",
    "***\n",
    "\n",
    "## 1 day period\n",
    "\n",
    "### Streamfunction\n",
    "\n",
    "Rossby waves are much tighter to equator (day is 4x shorter so Rossby radius is 2x smaller); Second set generated as before; Mid-latitude Rossby waves?\n",
    "\n",
    "- | 2 days | 6 days | 10 days \n",
    "- | - | - | - | -\n",
    "SF| ![alt](sf_2_1day.png) | ![alt](sf_6_1day.png) | ![alt](sf_10_1day.png)\n",
    "\n",
    "***\n",
    "\n",
    "## Final states\n",
    "\n",
    "\n",
    "- | 4 days | 1 day|\n",
    "- | - | - | - \n",
    "SF| ![alt](4day_T.png) | ![alt](1day_T.png)  "
   ]
  },
  {
   "cell_type": "code",
   "execution_count": null,
   "metadata": {
    "collapsed": true
   },
   "outputs": [],
   "source": []
  }
 ],
 "metadata": {
  "kernelspec": {
   "display_name": "Python [Root]",
   "language": "python",
   "name": "Python [Root]"
  },
  "language_info": {
   "codemirror_mode": {
    "name": "ipython",
    "version": 2
   },
   "file_extension": ".py",
   "mimetype": "text/x-python",
   "name": "python",
   "nbconvert_exporter": "python",
   "pygments_lexer": "ipython2",
   "version": "2.7.12"
  }
 },
 "nbformat": 4,
 "nbformat_minor": 0
}
