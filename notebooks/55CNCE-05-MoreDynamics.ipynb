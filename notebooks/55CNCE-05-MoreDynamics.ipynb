{
 "cells": [
  {
   "cell_type": "markdown",
   "metadata": {},
   "source": [
    "# 55CNCE-05-MoreDynamics\n",
    "## 1\n",
    "### 1.1-Altered Heat Capacity\n",
    "With lower Cp  and higher kappa, we of course get a steeper T(p). Could the weaker winds just be due to smaller temperature gradients?  \n",
    "Changing Cp without changing R is quite unphysical, so worth investigating much?\n",
    "<img src=\"alteredCpTp.png\" alt=\"best_rain.png\" style=\"width: 600px;\"/>\n",
    "\n",
    "<hr>\n",
    "### 1.2-Maximum Mean Zonal Winds\n",
    "Plotting mean zonal winds shows that there are high winds high in the atmosphere as well as in the equatorial jet.\n",
    "<img src=\"meanzonalwind2500_all.png\" alt=\"best_rain.png\" style=\"width: 1000px;\"/>\n",
    "However, multiplying by delta-pressure at each level to measure the zonal transport shows that the high winds are insignificant compared to the equatorial jet below 1 bar. So we can concentrate on the winds below 1 bar.\n",
    "<img src=\"meanzonaltransport2500.png\" alt=\"best_rain.png\" style=\"width: 1000px;\"/>\n",
    "<hr>\n",
    "### 1.2-Mean Zonal Winds below 1 bar\n",
    "At low T, weak westward (red) equatorial superrotation. At high T, strong eastward (blue) equatorial superrotation.  \n",
    "<img src=\"meanzonalwind500.png\" alt=\"best_rain.png\" style=\"width: 1000px;\"/>\n",
    "<img src=\"meanzonalwind1500.png\" alt=\"best_rain.png\" style=\"width: 1000px;\"/>\n",
    "<img src=\"meanzonalwind2500.png\" alt=\"best_rain.png\" style=\"width: 1000px;\"/>\n",
    "<hr>\n",
    "### 1.2-Mean Zonal Winds below 1 bar\n",
    "At low T, weak westward (red) equatorial superrotation. At high T, strong eastward (blue) equatorial superrotation.  \n",
    "<img src=\"eqU.png\" alt=\"best_rain.png\" style=\"width: 1000px;\"/>\n",
    "<img src=\"eqT.png\" alt=\"best_rain.png\" style=\"width: 1000px;\"/>\n",
    "<hr>"
   ]
  },
  {
   "cell_type": "code",
   "execution_count": null,
   "metadata": {
    "collapsed": true
   },
   "outputs": [],
   "source": []
  }
 ],
 "metadata": {
  "anaconda-cloud": {},
  "kernelspec": {
   "display_name": "Python [Root]",
   "language": "python",
   "name": "Python [Root]"
  },
  "language_info": {
   "codemirror_mode": {
    "name": "ipython",
    "version": 2
   },
   "file_extension": ".py",
   "mimetype": "text/x-python",
   "name": "python",
   "nbconvert_exporter": "python",
   "pygments_lexer": "ipython2",
   "version": "2.7.12"
  }
 },
 "nbformat": 4,
 "nbformat_minor": 0
}
