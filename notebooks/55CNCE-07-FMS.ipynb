{
 "cells": [
  {
   "cell_type": "code",
   "execution_count": 12,
   "metadata": {
    "collapsed": true
   },
   "outputs": [],
   "source": [
    "from IPython.display import HTML,display"
   ]
  },
  {
   "cell_type": "markdown",
   "metadata": {},
   "source": [
    "# 55CNCE-07-FMS\n",
    "3D GCM modelling of a H2 atmosphere on 55 Cancri e.\n",
    "\n",
    "\n",
    "## 1. Model Setup\n",
    "Reached stable clear-sky \"control\" setup.\n",
    "\n",
    "Parameter | Value\n",
    "--- | --- | \n",
    "Surface Pressure p | 10 bar\n",
    "Stellar Flux L | 3500000 $Wm^{-2}$\n",
    "Optical thickness $\\tau$ | 8.0\n",
    "Time step dt | 10s\n",
    "\n",
    "Stellar flux is $2590 \\times L_{Earth}$.\n",
    "\n",
    "Optical thickness estimated using Fortran CIA code in 1D.\n"
   ]
  },
  {
   "cell_type": "markdown",
   "metadata": {},
   "source": [
    "\n",
    "## 2. FMS Results\n",
    "The resulting atmosphere has signification heat circulation and a strong greenhouse effect, with a high-T hot spot and fairly warm nightside. All the following plots are from a 10-day average after the model was run past top-of-atmosphere equilibrium.\n",
    "### 2.1 Atmosphere Temperature\n",
    "The day-night contrast is not as strong as the Demory paper, as shown by the following plot of surface (10 bar) air T:\n",
    "<img src=\"surfaceairT.png\" alt=\"10bar_L.svg\" style=\"width: 800px;\"/>\n",
    "<hr>\n",
    "Higher in the atmosphere (5 bar) the hotspot is shifted further east, there is a warm band around the equator, and the day-night contrast is reduced.\n",
    "<img src=\"jetairT.png\" alt=\"10bar_L.svg\" style=\"width: 800px;\"/>\n",
    "<hr>\n",
    "### 2.2 Winds and Jet\n",
    "The circulation is driven by air rising from the substellar point - surface winds generally move towards this point.\n",
    "<img src=\"surfacewinds.png\" alt=\"10bar_L.svg\" style=\"width: 800px;\"/>\n",
    "<hr>\n",
    "At 5 bar there is an eastward equatorial jet. Some literature on these jets (e.g. http://iopscience.iop.org/article/10.1088/0004-637X/738/1/71/pdf), although apparently only for Hot Jupiters or cool (~300K) terrestrial planets. \n",
    "\n",
    "Low T FMS runs have westward jets - transition from westward to eastward about 1000-1500K. Previous scaled 55CNCE runs appear to have had westwards jets?\n",
    "<img src=\"jetwinds.png\" alt=\"10bar_L.svg\" style=\"width: 800px;\"/>\n",
    "<hr>\n",
    "Superrotation caused by jet is apparent in the average zonal wind.\n",
    "<img src=\"superrot.png\" alt=\"10bar_L.svg\" style=\"width: 800px;\"/>\n",
    "<hr>\n",
    "\n",
    "### 2.3 Hot Spot Location\n",
    "Averaging T along meridians allows comparison with Demory paper (measured 40deg shift). Surface T has small eastward shift:\n",
    "<img src=\"surfaceairmerid.png\" alt=\"10bar_L.svg\" style=\"width: 800px;\"/>\n",
    "<hr>\n",
    "T at 5 bar has significant eastward shift:\n",
    "<img src=\"highairmerid.png\" alt=\"10bar_L.svg\" style=\"width: 800px;\"/>\n",
    "<hr>\n",
    "Hot spot shift increases with height (up to about 1 bar, where atmosphere becomes isothermal):\n",
    "<img src=\"hotspotlocation.png\" alt=\"10bar_L.svg\" style=\"width: 600px;\"/>\n",
    "<hr>\n",
    "### 2.4 Equatorial Circulation\n",
    "Circulation around equator dominated by jet, which is driven by rising air at substellar point.\n",
    "\n",
    "NB vertical scale isn't quite right here (any matplotlib vector plots force a uniform grid...)\n",
    "<img src=\"eqcirculation.png\" alt=\"10bar_L.svg\" style=\"width: 800px;\"/>\n",
    "<hr>"
   ]
  },
  {
   "cell_type": "markdown",
   "metadata": {},
   "source": [
    "### 2.5 Surface Temperature Video\n",
    "The actual circulation is very turbulent with a short dynamical timescale, as shown by the following video of surface air temperature over 10 days (NB video only works in Safari for me!):\n",
    "\n",
    "<video controls src=\"animation_planet_final.mp4\" />\n"
   ]
  },
  {
   "cell_type": "markdown",
   "metadata": {},
   "source": [
    "The same video, plotted on a rotating globe (projected video distorts dynamics towards poles...)\n",
    "<video controls src=\"animation_planet_globe.mp4\" />"
   ]
  },
  {
   "cell_type": "markdown",
   "metadata": {},
   "source": [
    "## 3. To Do\n",
    "Run tests of different parameters - start with clear-sky at 1,3,5,10 bar.\n",
    "\n",
    "Use the new CIA radiation module in FMS, rather than just using it in 1D to tune the two-band semigrey parameters. The module runs fine, but runs several times slower and its clear-sky results doesn't seem to differ from the semigrey module. More optimisation may be possible.\n",
    "\n",
    "Add the moist adiabat module from Python - partly done, and shouldn't present a problem. Existing qe_moist_convection module is very complex.\n"
   ]
  },
  {
   "cell_type": "code",
   "execution_count": null,
   "metadata": {
    "collapsed": true
   },
   "outputs": [],
   "source": []
  }
 ],
 "metadata": {
  "anaconda-cloud": {},
  "kernelspec": {
   "display_name": "Python [Root]",
   "language": "python",
   "name": "Python [Root]"
  },
  "language_info": {
   "codemirror_mode": {
    "name": "ipython",
    "version": 2
   },
   "file_extension": ".py",
   "mimetype": "text/x-python",
   "name": "python",
   "nbconvert_exporter": "python",
   "pygments_lexer": "ipython2",
   "version": "2.7.12"
  }
 },
 "nbformat": 4,
 "nbformat_minor": 0
}
