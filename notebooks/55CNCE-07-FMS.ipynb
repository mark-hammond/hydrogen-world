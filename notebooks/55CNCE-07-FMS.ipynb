{
 "cells": [
  {
   "cell_type": "markdown",
   "metadata": {},
   "source": [
    "# 55CNCE-07-FMS\n",
    "1D radiative-convective and 3D GCM modelling of a H2 atmosphere on 55 Cancri e, with a focus on ground temperature and outgoing radiation.  \n",
    "\n",
    "\n",
    "## Model Setup\n",
    "Reached stable clear-sky \"control\" setup.\n",
    "\n",
    "Surface pressure p = 10 bar\n",
    "\n",
    "Stellar Flux L = 1370 x 2590 = 3548300 $Wm^{-2}$\n",
    "\n",
    "Built up to gradually - problems initialising at high T\n",
    "\n",
    "Timestep dt = 10s\n",
    "\n",
    "Needed smaller timestep while reaching full L\n",
    "\n",
    "Optical thickness $\\tau$ = 8.0\n",
    "\n",
    "Estimated using 1D Fortran code locally\n",
    "<pre>\n",
    "```\n",
    "\n",
    "| This | is   |\n",
    "|------|------|\n",
    "|   a  | table|\n",
    "|------|------|\n",
    "|   a  | table|\n",
    "|------|------|\n",
    "|   a  | table|\n",
    "|------|------|\n",
    "|   a  | table|\n",
    "\n",
    "```\n",
    "</pre>"
   ]
  },
  {
   "cell_type": "markdown",
   "metadata": {},
   "source": [
    "\n",
    "## FMS Results\n",
    "The resulting atmosphere has signification heat circulation and a strong greenhouse effect, with a high-T hot spot and fairly warm nightside. All the following plots are from a 10-day average after the model was run past top-of-atmosphere equilibrium.\n",
    "### Atmosphere Temperature\n",
    "The day-night contrast is not as strong as the Demory paper, as shown by the following plot of surface (10 bar) air T:\n",
    "<img src=\"surfaceairT.png\" alt=\"10bar_L.svg\" style=\"width: 800px;\"/>\n",
    "<hr>\n",
    "Higher in the atmosphere (5 bar) the hotspot is shifted further east, there is a warm band around the equator, and the day-night contrast is reduced.\n",
    "<img src=\"jetairT.png\" alt=\"10bar_L.svg\" style=\"width: 800px;\"/>\n",
    "<hr>\n",
    "### Winds and Jet\n",
    "The circulation is driven by air rising from the substellar point - surface winds generally move towards this point.\n",
    "<img src=\"surfacewinds.png\" alt=\"10bar_L.svg\" style=\"width: 800px;\"/>\n",
    "<hr>\n",
    "At 5 bar there is a clear eastward equatorial jet. Some literature on these jets (e.g. http://iopscience.iop.org/article/10.1088/0004-637X/738/1/71/pdf), although apparently only for Hot Jupiters or cool (~300K) terrestrial planets. \n",
    "\n",
    "Low T FMS runs have westward jets - transition about 1000-1500K. Previous scaled 55CNCE runs appear to have had westwards jets?\n",
    "<img src=\"jetwinds.png\" alt=\"10bar_L.svg\" style=\"width: 800px;\"/>\n",
    "<hr>\n",
    "Superrotation caused by jet is apparent in the average zonal wind.\n",
    "<img src=\"superrot.png\" alt=\"10bar_L.svg\" style=\"width: 800px;\"/>\n",
    "<hr>\n",
    "\n",
    "### Hot Spot Location\n",
    "Averaging T along meridians allows comparison with Demory paper (measured 40deg shift). Surface T has small eastward shift:\n",
    "<img src=\"surfaceairmerid.png\" alt=\"10bar_L.svg\" style=\"width: 800px;\"/>\n",
    "<hr>\n",
    "T at 5 bar has significant eastward shift:\n",
    "<img src=\"highairmerid.png\" alt=\"10bar_L.svg\" style=\"width: 800px;\"/>\n",
    "<hr>\n",
    "Hot spot shift increases with height (up to about 1 bar, where atmosphere becomes isothermal):\n",
    "<img src=\"hotspotlocation.png\" alt=\"10bar_L.svg\" style=\"width: 600px;\"/>\n",
    "<hr>\n",
    "### Equatorial Circulation\n",
    "Circulation around equator dominated by jet, which is driven by rising air at substellar point.\n",
    "<img src=\"eqcirculation.png\" alt=\"10bar_L.svg\" style=\"width: 800px;\"/>\n",
    "<hr>"
   ]
  },
  {
   "cell_type": "code",
   "execution_count": 3,
   "metadata": {
    "collapsed": true
   },
   "outputs": [],
   "source": [
    "from IPython.display import HTML"
   ]
  },
  {
   "cell_type": "markdown",
   "metadata": {},
   "source": [
    "### Surface Temperature Video\n",
    "The actual circulation is very turbulent with a short dynamical timescale, as shown by the following video of surface air temperature over 10 days (NB video only works in Safari for me!):\n",
    "\n",
    "<video controls src=\"animation_planet_final.mp4\" />\n"
   ]
  },
  {
   "cell_type": "markdown",
   "metadata": {},
   "source": [
    "## To Do\n",
    "Use CIA in FMS (not just params)\n",
    "\n",
    "Add MA\n",
    "\n",
    "Test different pressures"
   ]
  }
 ],
 "metadata": {
  "anaconda-cloud": {},
  "kernelspec": {
   "display_name": "Python [Root]",
   "language": "python",
   "name": "Python [Root]"
  },
  "language_info": {
   "codemirror_mode": {
    "name": "ipython",
    "version": 2
   },
   "file_extension": ".py",
   "mimetype": "text/x-python",
   "name": "python",
   "nbconvert_exporter": "python",
   "pygments_lexer": "ipython2",
   "version": "2.7.12"
  }
 },
 "nbformat": 4,
 "nbformat_minor": 0
}
