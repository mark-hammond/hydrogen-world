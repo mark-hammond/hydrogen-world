{
 "cells": [
  {
   "cell_type": "markdown",
   "metadata": {},
   "source": [
    "## 55 Cancri e with SOCRATES radiative transfer\n",
    "\n",
    "Testing SOCRATES workflow to solve radiative transfer for custom p profile, T(p), mixing ratios, and HITEMP data. Post-processing only, although no fundamental difference to use in a GCM.\n",
    "\n",
    "Possible uses: outgoing spectrum, phase curves at different wavelengths, 1D radiative-convection equilibrium, effects of SW absorption\n",
    "\n",
    "### CO\n",
    "\n",
    "OLR spectrum - features\n",
    "<img src=\"toa_lw.svg\" alt=\"H2_OLR_ILR.svg\" style=\"width: 600px;\"/>  \n",
    "\n",
    "SW spectrum\n",
    "<img src=\"sw_abs.svg\" alt=\"H2_OLR_ILR.svg\" style=\"width: 600px;\"/>  \n",
    "\n",
    "\n",
    "Absorption at 2000cm-1 flattens phase curve - so observations unlikely to have strong absorption at 4.5micron - window, but different argument\n",
    "\n",
    "<img src=\"phasecurves_CO_2000.svg\" alt=\"H2_OLR_ILR.svg\" style=\"width: 600px;\"/> \n",
    "\n",
    "Similar effect for other feature\n",
    "\n",
    "<img src=\"phasecurves_CO_4000_6000.svg\" alt=\"H2_OLR_ILR.svg\" style=\"width: 600px;\"/>  \n",
    "\n",
    "Animation shows how phase curve amplitude is decreased when observing at wavelengths with strong absorption. Phase shift varies slightly with wavelength too."
   ]
  },
  {
   "cell_type": "code",
   "execution_count": 11,
   "metadata": {
    "collapsed": false
   },
   "outputs": [
    {
     "data": {
      "text/html": [
       "\n",
       "<video width=\"1000\" height=\"800\" controls>\n",
       "  <source src=\"file.mp4\" type=\"video/mp4\">\n",
       "</video>\n"
      ],
      "text/plain": [
       "<IPython.core.display.HTML object>"
      ]
     },
     "execution_count": 11,
     "metadata": {},
     "output_type": "execute_result"
    }
   ],
   "source": [
    "from IPython.display import HTML\n",
    "\n",
    "HTML(\"\"\"\n",
    "<video width=\"1000\" height=\"800\" controls>\n",
    "  <source src=\"file.mp4\" type=\"video/mp4\">\n",
    "</video>\n",
    "\"\"\")"
   ]
  },
  {
   "cell_type": "code",
   "execution_count": null,
   "metadata": {
    "collapsed": true
   },
   "outputs": [],
   "source": []
  },
  {
   "cell_type": "code",
   "execution_count": null,
   "metadata": {
    "collapsed": true
   },
   "outputs": [],
   "source": []
  }
 ],
 "metadata": {
  "anaconda-cloud": {},
  "kernelspec": {
   "display_name": "Python [Root]",
   "language": "python",
   "name": "Python [Root]"
  },
  "language_info": {
   "codemirror_mode": {
    "name": "ipython",
    "version": 2
   },
   "file_extension": ".py",
   "mimetype": "text/x-python",
   "name": "python",
   "nbconvert_exporter": "python",
   "pygments_lexer": "ipython2",
   "version": "2.7.12"
  }
 },
 "nbformat": 4,
 "nbformat_minor": 0
}
